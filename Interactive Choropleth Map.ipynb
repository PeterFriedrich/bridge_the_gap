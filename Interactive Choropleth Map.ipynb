{
 "cells": [
  {
   "cell_type": "markdown",
   "id": "c0337d95",
   "metadata": {},
   "source": [
    "### Interactive Choropleth Map\n",
    "This notebook generates a set of interactive choropleth maps, showing various metrics of internet quality for different areas in the Province of Alberta. These maps attempt to reconcile all boundaries given in the competition data, which involves some boundaries being"
   ]
  },
  {
   "cell_type": "code",
   "execution_count": 1,
   "id": "5fd17790",
   "metadata": {},
   "outputs": [],
   "source": [
    "import geopandas as gpd\n",
    "import pandas as pd\n",
    "from pathlib import Path\n",
    "import shapely\n",
    "\n",
    "from folium import Choropleth, Marker\n",
    "import folium"
   ]
  },
  {
   "cell_type": "markdown",
   "id": "d75f80f3",
   "metadata": {},
   "source": [
    "### Boundary Data"
   ]
  },
  {
   "cell_type": "code",
   "execution_count": 3,
   "id": "6d526380",
   "metadata": {},
   "outputs": [],
   "source": [
    "file_path = Path(\"data/Municipal_Boundaries_SHP_Geographic/\")"
   ]
  },
  {
   "cell_type": "code",
   "execution_count": 20,
   "id": "c6fe128d",
   "metadata": {},
   "outputs": [],
   "source": [
    "rural_df = gpd.read_file(file_path/\"RURAL.shp\") #1 \n",
    "indian_df = gpd.read_file(file_path/\"INDIAN.shp\") # 2\n",
    "city_df = gpd.read_file(file_path/\"CITY.shp\") # 3\n",
    "town_df = gpd.read_file(file_path/\"TOWN.shp\") # 4 \n",
    "urbserv_df = gpd.read_file(file_path/\"urbserv.shp\") # 5\n",
    "# hamlet_df = gpd.read_file(file_path/\"HAMLETPT.shp\") # points, no boundaries\n",
    "village_df = gpd.read_file(file_path/\"VILLAGE.shp\") # 6\n",
    "svillage_df = gpd.read_file(file_path/\"SVILLAGE.shp\") # 7 "
   ]
  },
  {
   "cell_type": "markdown",
   "id": "13899505",
   "metadata": {},
   "source": [
    "### Internet Data"
   ]
  },
  {
   "cell_type": "code",
   "execution_count": 8,
   "id": "96021679",
   "metadata": {},
   "outputs": [],
   "source": [
    "ookla_gdf = gpd.read_file(\"data/ookla/AB_ookla_data_2020.shp\")"
   ]
  },
  {
   "cell_type": "code",
   "execution_count": 9,
   "id": "5462b184",
   "metadata": {},
   "outputs": [
    {
     "data": {
      "text/html": [
       "<div>\n",
       "<style scoped>\n",
       "    .dataframe tbody tr th:only-of-type {\n",
       "        vertical-align: middle;\n",
       "    }\n",
       "\n",
       "    .dataframe tbody tr th {\n",
       "        vertical-align: top;\n",
       "    }\n",
       "\n",
       "    .dataframe thead th {\n",
       "        text-align: right;\n",
       "    }\n",
       "</style>\n",
       "<table border=\"1\" class=\"dataframe\">\n",
       "  <thead>\n",
       "    <tr style=\"text-align: right;\">\n",
       "      <th></th>\n",
       "      <th>quadkey</th>\n",
       "      <th>avg_d_kbps</th>\n",
       "      <th>avg_u_kbps</th>\n",
       "      <th>avg_lat_ms</th>\n",
       "      <th>tests</th>\n",
       "      <th>devices</th>\n",
       "      <th>quarter</th>\n",
       "      <th>conn_type</th>\n",
       "      <th>geometry</th>\n",
       "    </tr>\n",
       "  </thead>\n",
       "  <tbody>\n",
       "    <tr>\n",
       "      <th>0</th>\n",
       "      <td>0212113033010133</td>\n",
       "      <td>807</td>\n",
       "      <td>273</td>\n",
       "      <td>84</td>\n",
       "      <td>1</td>\n",
       "      <td>1</td>\n",
       "      <td>Q1</td>\n",
       "      <td>fixed</td>\n",
       "      <td>POLYGON ((-114.13147 53.53051, -114.12598 53.5...</td>\n",
       "    </tr>\n",
       "    <tr>\n",
       "      <th>1</th>\n",
       "      <td>0212113123020220</td>\n",
       "      <td>82062</td>\n",
       "      <td>11294</td>\n",
       "      <td>19</td>\n",
       "      <td>34</td>\n",
       "      <td>4</td>\n",
       "      <td>Q1</td>\n",
       "      <td>fixed</td>\n",
       "      <td>POLYGON ((-113.55469 53.46843, -113.54919 53.4...</td>\n",
       "    </tr>\n",
       "    <tr>\n",
       "      <th>2</th>\n",
       "      <td>0212131212333013</td>\n",
       "      <td>9741</td>\n",
       "      <td>1382</td>\n",
       "      <td>24</td>\n",
       "      <td>7</td>\n",
       "      <td>2</td>\n",
       "      <td>Q1</td>\n",
       "      <td>fixed</td>\n",
       "      <td>POLYGON ((-114.28528 51.20344, -114.27979 51.2...</td>\n",
       "    </tr>\n",
       "  </tbody>\n",
       "</table>\n",
       "</div>"
      ],
      "text/plain": [
       "            quadkey  avg_d_kbps  avg_u_kbps  avg_lat_ms  tests  devices  \\\n",
       "0  0212113033010133         807         273          84      1        1   \n",
       "1  0212113123020220       82062       11294          19     34        4   \n",
       "2  0212131212333013        9741        1382          24      7        2   \n",
       "\n",
       "  quarter conn_type                                           geometry  \n",
       "0      Q1     fixed  POLYGON ((-114.13147 53.53051, -114.12598 53.5...  \n",
       "1      Q1     fixed  POLYGON ((-113.55469 53.46843, -113.54919 53.4...  \n",
       "2      Q1     fixed  POLYGON ((-114.28528 51.20344, -114.27979 51.2...  "
      ]
     },
     "execution_count": 9,
     "metadata": {},
     "output_type": "execute_result"
    }
   ],
   "source": [
    "ookla_gdf.head(3)"
   ]
  },
  {
   "cell_type": "markdown",
   "id": "c75f2cc3",
   "metadata": {},
   "source": [
    "### Processing Data"
   ]
  },
  {
   "cell_type": "markdown",
   "id": "888b8bd4",
   "metadata": {},
   "source": [
    "Changing ookla polygons to centroids, for spatial join accuracy."
   ]
  },
  {
   "cell_type": "code",
   "execution_count": 13,
   "id": "8e90ebd3",
   "metadata": {},
   "outputs": [],
   "source": [
    "ookla_gdf[\"long\"] = ookla_gdf.geometry.apply(lambda x:x.centroid.x)\n",
    "ookla_gdf[\"lat\"] = ookla_gdf.geometry.apply(lambda x:x.centroid.y)"
   ]
  },
  {
   "cell_type": "code",
   "execution_count": 14,
   "id": "04ddc2d4",
   "metadata": {},
   "outputs": [],
   "source": [
    "ookla_temp = pd.DataFrame(ookla_gdf.drop(\"geometry\", axis=1))\n",
    "ookla_gdf = gpd.GeoDataFrame(ookla_temp, geometry=gpd.points_from_xy(\n",
    "    ookla_temp.long, ookla_temp.lat))\n",
    "ookla_gdf = ookla_gdf.drop([\"long\", \"lat\"], axis=1)"
   ]
  },
  {
   "cell_type": "code",
   "execution_count": 19,
   "id": "e8e29a44",
   "metadata": {},
   "outputs": [
    {
     "name": "stderr",
     "output_type": "stream",
     "text": [
      "/home/peter/anaconda3/envs/basic-data/lib/python3.8/site-packages/pyproj/crs/crs.py:53: FutureWarning: '+init=<authority>:<code>' syntax is deprecated. '<authority>:<code>' is the preferred initialization method. When making the change, be mindful of axis order changes: https://pyproj4.github.io/pyproj/stable/gotchas.html#axis-order-changes-in-proj-6\n",
      "  return _prepare_from_string(\" \".join(pjargs))\n"
     ]
    }
   ],
   "source": [
    "ookla_gdf.crs = {\"init\":\"EPSG:4326\"}"
   ]
  }
 ],
 "metadata": {
  "kernelspec": {
   "display_name": "basic-data-env",
   "language": "python",
   "name": "basic-data-env"
  },
  "language_info": {
   "codemirror_mode": {
    "name": "ipython",
    "version": 3
   },
   "file_extension": ".py",
   "mimetype": "text/x-python",
   "name": "python",
   "nbconvert_exporter": "python",
   "pygments_lexer": "ipython3",
   "version": "3.8.2"
  }
 },
 "nbformat": 4,
 "nbformat_minor": 5
}
