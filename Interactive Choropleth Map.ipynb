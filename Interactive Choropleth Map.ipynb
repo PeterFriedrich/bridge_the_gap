{
 "cells": [
  {
   "cell_type": "markdown",
   "id": "00b4c8cf",
   "metadata": {},
   "source": [
    "### Interactive Choropleth Map\n",
    "This notebook generates a set of interactive choropleth maps, showing various metrics of internet quality for different areas in the Province of Alberta. These maps attempt to reconcile all boundaries given in the competition data. Some boundaries were cut into, or overlapped, but parts of the dataset eventually had to be discarded."
   ]
  },
  {
   "cell_type": "code",
   "execution_count": 73,
   "id": "99ac2b4a",
   "metadata": {},
   "outputs": [
    {
     "ename": "ImportError",
     "evalue": "cannot import name 'plot_bounds' from 'helper_functions' (/home/peter/hackathons/bridge_the_gap/helper_functions.py)",
     "output_type": "error",
     "traceback": [
      "\u001b[0;31m---------------------------------------------------------------------------\u001b[0m",
      "\u001b[0;31mImportError\u001b[0m                               Traceback (most recent call last)",
      "\u001b[0;32m<ipython-input-73-230828f97b1f>\u001b[0m in \u001b[0;36m<module>\u001b[0;34m\u001b[0m\n\u001b[1;32m      7\u001b[0m \u001b[0;32mimport\u001b[0m \u001b[0mfolium\u001b[0m\u001b[0;34m\u001b[0m\u001b[0;34m\u001b[0m\u001b[0m\n\u001b[1;32m      8\u001b[0m \u001b[0;34m\u001b[0m\u001b[0m\n\u001b[0;32m----> 9\u001b[0;31m \u001b[0;32mfrom\u001b[0m \u001b[0mhelper_functions\u001b[0m \u001b[0;32mimport\u001b[0m \u001b[0mshow_overlaps\u001b[0m\u001b[0;34m,\u001b[0m \u001b[0mboundary_cut\u001b[0m\u001b[0;34m,\u001b[0m \u001b[0mplot_bounds\u001b[0m\u001b[0;34m\u001b[0m\u001b[0;34m\u001b[0m\u001b[0m\n\u001b[0m",
      "\u001b[0;31mImportError\u001b[0m: cannot import name 'plot_bounds' from 'helper_functions' (/home/peter/hackathons/bridge_the_gap/helper_functions.py)"
     ]
    }
   ],
   "source": [
    "import geopandas as gpd\n",
    "import pandas as pd\n",
    "from pathlib import Path\n",
    "import shapely\n",
    "\n",
    "from folium import Choropleth, Marker\n",
    "import folium\n",
    "\n",
    "from helper_functions import show_overlaps, boundary_cut, plot_bounds"
   ]
  },
  {
   "cell_type": "markdown",
   "id": "b197761e",
   "metadata": {},
   "source": [
    "### Boundary Data"
   ]
  },
  {
   "cell_type": "code",
   "execution_count": 26,
   "id": "be8cb292",
   "metadata": {},
   "outputs": [],
   "source": [
    "file_path = Path(\"data/Municipal_Boundaries_SHP_Geographic/\")"
   ]
  },
  {
   "cell_type": "code",
   "execution_count": 27,
   "id": "32ae3bc8",
   "metadata": {},
   "outputs": [],
   "source": [
    "rural_gdf = gpd.read_file(file_path/\"RURAL.shp\") #1 \n",
    "indian_gdf = gpd.read_file(file_path/\"INDIAN.shp\") # 2\n",
    "city_gdf = gpd.read_file(file_path/\"CITY.shp\") # 3\n",
    "town_gdf = gpd.read_file(file_path/\"TOWN.shp\") # 4 \n",
    "urbserv_gdf = gpd.read_file(file_path/\"urbserv.shp\") # 5\n",
    "# hamlet_df = gpd.read_file(file_path/\"HAMLETPT.shp\") # points, no boundaries\n",
    "village_gdf = gpd.read_file(file_path/\"VILLAGE.shp\") # 6\n",
    "svillage_gdf = gpd.read_file(file_path/\"SVILLAGE.shp\") # 7 "
   ]
  },
  {
   "cell_type": "markdown",
   "id": "cbd5a317",
   "metadata": {},
   "source": [
    "### Internet Data"
   ]
  },
  {
   "cell_type": "code",
   "execution_count": 28,
   "id": "0941cf12",
   "metadata": {},
   "outputs": [],
   "source": [
    "ookla_gdf = gpd.read_file(\"data/ookla/AB_ookla_data_2020.shp\")"
   ]
  },
  {
   "cell_type": "code",
   "execution_count": 29,
   "id": "d4b4df51",
   "metadata": {},
   "outputs": [
    {
     "data": {
      "text/html": [
       "<div>\n",
       "<style scoped>\n",
       "    .dataframe tbody tr th:only-of-type {\n",
       "        vertical-align: middle;\n",
       "    }\n",
       "\n",
       "    .dataframe tbody tr th {\n",
       "        vertical-align: top;\n",
       "    }\n",
       "\n",
       "    .dataframe thead th {\n",
       "        text-align: right;\n",
       "    }\n",
       "</style>\n",
       "<table border=\"1\" class=\"dataframe\">\n",
       "  <thead>\n",
       "    <tr style=\"text-align: right;\">\n",
       "      <th></th>\n",
       "      <th>quadkey</th>\n",
       "      <th>avg_d_kbps</th>\n",
       "      <th>avg_u_kbps</th>\n",
       "      <th>avg_lat_ms</th>\n",
       "      <th>tests</th>\n",
       "      <th>devices</th>\n",
       "      <th>quarter</th>\n",
       "      <th>conn_type</th>\n",
       "      <th>geometry</th>\n",
       "    </tr>\n",
       "  </thead>\n",
       "  <tbody>\n",
       "    <tr>\n",
       "      <th>0</th>\n",
       "      <td>0212113033010133</td>\n",
       "      <td>807</td>\n",
       "      <td>273</td>\n",
       "      <td>84</td>\n",
       "      <td>1</td>\n",
       "      <td>1</td>\n",
       "      <td>Q1</td>\n",
       "      <td>fixed</td>\n",
       "      <td>POLYGON ((-114.13147 53.53051, -114.12598 53.5...</td>\n",
       "    </tr>\n",
       "    <tr>\n",
       "      <th>1</th>\n",
       "      <td>0212113123020220</td>\n",
       "      <td>82062</td>\n",
       "      <td>11294</td>\n",
       "      <td>19</td>\n",
       "      <td>34</td>\n",
       "      <td>4</td>\n",
       "      <td>Q1</td>\n",
       "      <td>fixed</td>\n",
       "      <td>POLYGON ((-113.55469 53.46843, -113.54919 53.4...</td>\n",
       "    </tr>\n",
       "    <tr>\n",
       "      <th>2</th>\n",
       "      <td>0212131212333013</td>\n",
       "      <td>9741</td>\n",
       "      <td>1382</td>\n",
       "      <td>24</td>\n",
       "      <td>7</td>\n",
       "      <td>2</td>\n",
       "      <td>Q1</td>\n",
       "      <td>fixed</td>\n",
       "      <td>POLYGON ((-114.28528 51.20344, -114.27979 51.2...</td>\n",
       "    </tr>\n",
       "  </tbody>\n",
       "</table>\n",
       "</div>"
      ],
      "text/plain": [
       "            quadkey  avg_d_kbps  avg_u_kbps  avg_lat_ms  tests  devices  \\\n",
       "0  0212113033010133         807         273          84      1        1   \n",
       "1  0212113123020220       82062       11294          19     34        4   \n",
       "2  0212131212333013        9741        1382          24      7        2   \n",
       "\n",
       "  quarter conn_type                                           geometry  \n",
       "0      Q1     fixed  POLYGON ((-114.13147 53.53051, -114.12598 53.5...  \n",
       "1      Q1     fixed  POLYGON ((-113.55469 53.46843, -113.54919 53.4...  \n",
       "2      Q1     fixed  POLYGON ((-114.28528 51.20344, -114.27979 51.2...  "
      ]
     },
     "execution_count": 29,
     "metadata": {},
     "output_type": "execute_result"
    }
   ],
   "source": [
    "ookla_gdf.head(3)"
   ]
  },
  {
   "cell_type": "markdown",
   "id": "ae38421f",
   "metadata": {},
   "source": [
    "### Processing Data"
   ]
  },
  {
   "cell_type": "markdown",
   "id": "bfef2e05",
   "metadata": {},
   "source": [
    "Changing ookla polygons to centroids, for spatial join accuracy."
   ]
  },
  {
   "cell_type": "code",
   "execution_count": 30,
   "id": "a6e1666a",
   "metadata": {},
   "outputs": [],
   "source": [
    "ookla_gdf[\"long\"] = ookla_gdf.geometry.apply(lambda x:x.centroid.x)\n",
    "ookla_gdf[\"lat\"] = ookla_gdf.geometry.apply(lambda x:x.centroid.y)"
   ]
  },
  {
   "cell_type": "code",
   "execution_count": 31,
   "id": "faeae1b2",
   "metadata": {},
   "outputs": [],
   "source": [
    "ookla_temp = pd.DataFrame(ookla_gdf.drop(\"geometry\", axis=1))\n",
    "ookla_gdf = gpd.GeoDataFrame(ookla_temp, geometry=gpd.points_from_xy(\n",
    "    ookla_temp.long, ookla_temp.lat))\n",
    "ookla_gdf = ookla_gdf.drop([\"long\", \"lat\"], axis=1)"
   ]
  },
  {
   "cell_type": "code",
   "execution_count": 32,
   "id": "7864baa1",
   "metadata": {},
   "outputs": [
    {
     "name": "stderr",
     "output_type": "stream",
     "text": [
      "/home/peter/anaconda3/envs/basic-data/lib/python3.8/site-packages/pyproj/crs/crs.py:53: FutureWarning: '+init=<authority>:<code>' syntax is deprecated. '<authority>:<code>' is the preferred initialization method. When making the change, be mindful of axis order changes: https://pyproj4.github.io/pyproj/stable/gotchas.html#axis-order-changes-in-proj-6\n",
      "  return _prepare_from_string(\" \".join(pjargs))\n"
     ]
    }
   ],
   "source": [
    "ookla_gdf.crs = {\"init\":\"EPSG:4326\"}"
   ]
  },
  {
   "cell_type": "markdown",
   "id": "a01d15ba",
   "metadata": {},
   "source": [
    "Cutting smaller boundaries out of the rural boundaries"
   ]
  },
  {
   "cell_type": "code",
   "execution_count": 24,
   "id": "3ca669b6",
   "metadata": {},
   "outputs": [],
   "source": [
    "rural_cuts = [indian_df, city_df, town_df, urbserv_df, village_df, svillage_df] "
   ]
  },
  {
   "cell_type": "code",
   "execution_count": 35,
   "id": "34314e5f",
   "metadata": {},
   "outputs": [],
   "source": [
    "rural_gdf = boundary_cut(rural_cuts, rural_gdf)"
   ]
  },
  {
   "cell_type": "code",
   "execution_count": 38,
   "id": "ec9a9a2f",
   "metadata": {},
   "outputs": [
    {
     "ename": "NameError",
     "evalue": "name 'check_plot' is not defined",
     "output_type": "error",
     "traceback": [
      "\u001b[0;31m---------------------------------------------------------------------------\u001b[0m",
      "\u001b[0;31mNameError\u001b[0m                                 Traceback (most recent call last)",
      "\u001b[0;32m<ipython-input-38-f95419d7654e>\u001b[0m in \u001b[0;36m<module>\u001b[0;34m\u001b[0m\n\u001b[0;32m----> 1\u001b[0;31m \u001b[0mcheck_plot\u001b[0m\u001b[0;34m(\u001b[0m\u001b[0mrural_gdf\u001b[0m\u001b[0;34m)\u001b[0m\u001b[0;34m\u001b[0m\u001b[0;34m\u001b[0m\u001b[0m\n\u001b[0m",
      "\u001b[0;31mNameError\u001b[0m: name 'check_plot' is not defined"
     ]
    }
   ],
   "source": [
    "check_plot(rural_gdf)"
   ]
  }
 ],
 "metadata": {
  "kernelspec": {
   "display_name": "basic-data-env",
   "language": "python",
   "name": "basic-data-env"
  },
  "language_info": {
   "codemirror_mode": {
    "name": "ipython",
    "version": 3
   },
   "file_extension": ".py",
   "mimetype": "text/x-python",
   "name": "python",
   "nbconvert_exporter": "python",
   "pygments_lexer": "ipython3",
   "version": "3.8.2"
  }
 },
 "nbformat": 4,
 "nbformat_minor": 5
}
