{
 "cells": [
  {
   "cell_type": "markdown",
   "id": "3a3a14a6",
   "metadata": {},
   "source": [
    "## Main Hackathon Notes\n",
    "- Hackathon is done by ISAIC and CYBERA"
   ]
  },
  {
   "cell_type": "markdown",
   "id": "a0e548ae",
   "metadata": {},
   "source": [
    "### Goals\n",
    "1. Use available data to assess the connectivity barriers and gaps that exist throughout Alberta. This includes identifying communities that are underserved.\n",
    "2. Assess the correlation between social and economic indicators, and the speed of connectivity, to determine the role high-speed internet plays in community sustainability.\n",
    "\n",
    "- Identify a goal or hypothesis that aligns with the hackathon’s goals\n",
    "- Develop compelling metrics and visualizations - a data product - that supports their hypothesisZ\n",
    "\n",
    "### Requirements:\n",
    "- Identify a goal or hypothesis that aligns with the hackathon’s goals\n",
    "- Identify and curate open relevant open datasets\n",
    "- Transform the data and prepare it for analysis\n",
    "- Develop compelling metrics and visualizations - a data product - that supports their hypothesis\n",
    "- A story - submit your work (including code, reports, and data products such as a website) as well as a video recording of your final project demo"
   ]
  },
  {
   "cell_type": "markdown",
   "id": "9603bc7d",
   "metadata": {},
   "source": [
    "#### From site:\n",
    "- Participants will assess how rural connectivity is impacting the quality of life, economic diversification, and education across the province.\n",
    "- A panel of data science and rural connectivity experts will assess the projects based on visualization, creativity and implementation.\n",
    "\n",
    "#### Questions:\n",
    "1. What are the connectivity barriers and gaps, underserved communities?\n",
    "    - distance from major lines, money?\n",
    "2. How to identify what is good internet, speed of internet, reliability, data usage limits?\n",
    "    - Speed, downtime, data limits\n",
    "    - cost, availability\n",
    "    - interconnection with a given community, flexibility\n",
    "3. What are the social and economic indicators?\n",
    "    - wealth, health?\n",
    "4. How do these things help with community sustainability?\n",
    "    - **Some presentations had good slides on this**\n",
    "    - Allow remote work\n",
    "    - Allow companies that need internet to relocate there.\n",
    "    - Allow remote schooling, online schooling, moocs etc.\n",
    "    - Allow communication, entertainment?\n",
    "    - allow virtual meetups?\n",
    "    - allow sustainability during a pandemic, or something similar\n",
    "5. Obvious question, what are the connections to covid19, and are there similar situations we could help with?\n",
    "    - **Once again, forums**\n",
    "6. Making recommendation for alternatives? Evaluating satellite internet?\n",
    "    - Find more info on sattelite internet\n",
    "7. What stops the internet being better?\n",
    "    - sightlines to towers?\n",
    "    - money?\n",
    "    - lack of density?\n",
    "    - inability to get grants from government\n",
    "    - lack of density or closesness to trunk lines that private sector wants"
   ]
  },
  {
   "cell_type": "markdown",
   "id": "11f98a1f",
   "metadata": {},
   "source": [
    "## Pre-Forum Workshop 1\n"
   ]
  },
  {
   "cell_type": "code",
   "execution_count": null,
   "id": "4b035b18",
   "metadata": {},
   "outputs": [],
   "source": []
  }
 ],
 "metadata": {
  "kernelspec": {
   "display_name": "basic-data-env",
   "language": "python",
   "name": "basic-data-env"
  },
  "language_info": {
   "codemirror_mode": {
    "name": "ipython",
    "version": 3
   },
   "file_extension": ".py",
   "mimetype": "text/x-python",
   "name": "python",
   "nbconvert_exporter": "python",
   "pygments_lexer": "ipython3",
   "version": "3.8.2"
  }
 },
 "nbformat": 4,
 "nbformat_minor": 5
}
