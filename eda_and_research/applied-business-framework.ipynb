{
 "cells": [
  {
   "cell_type": "markdown",
   "id": "16953529",
   "metadata": {},
   "source": [
    "### AMII Business Framework\n",
    "**Judgement -> Action -> (Outcome + Context)**\n",
    "1. Judgement: Assessment of predicted answer, based on possible risks and payoff\n",
    "2. Action: Given a model prediction, what actions will be taken, what available levers will be pulled in real life\n",
    "3. Outcome: What are the big picture goals this organization is trying to achieve\n",
    "4. Context: Actual benefit of right answers, and consequence of wrong answers. False negatives vs false positives? Does this actullly make sense within this domain."
   ]
  },
  {
   "cell_type": "markdown",
   "id": "ea1af758",
   "metadata": {},
   "source": [
    "### Problem Scoping\n",
    "1. What business outcome do I want\n",
    "2. What actions support that outcome?(Also which are practically available)\n",
    "3. What judgements apply to these actions\n",
    "4. What Q-A pair informs the action? Target-Prediction\n",
    "5. What constraints to be considered for what we can actually achieve?"
   ]
  },
  {
   "cell_type": "markdown",
   "id": "bc5f9056",
   "metadata": {},
   "source": [
    "### Objectives:\n",
    "\n",
    "### Problem Definition\n",
    "\n",
    "### Stakeholders:\n",
    "\n",
    "### Data Sources:\n",
    "\n",
    "### Resources/Constraints\n",
    "\n",
    "### Existing Practices\n",
    "\n",
    "### Metrics:\n",
    "\n",
    "### Milestones:"
   ]
  },
  {
   "cell_type": "markdown",
   "id": "d46df055",
   "metadata": {},
   "source": [
    "### Hackathon Goals:\n"
   ]
  },
  {
   "cell_type": "code",
   "execution_count": null,
   "id": "3ba6f4d4",
   "metadata": {},
   "outputs": [],
   "source": []
  }
 ],
 "metadata": {
  "kernelspec": {
   "display_name": "basic-data-env",
   "language": "python",
   "name": "basic-data-env"
  },
  "language_info": {
   "codemirror_mode": {
    "name": "ipython",
    "version": 3
   },
   "file_extension": ".py",
   "mimetype": "text/x-python",
   "name": "python",
   "nbconvert_exporter": "python",
   "pygments_lexer": "ipython3",
   "version": "3.8.2"
  }
 },
 "nbformat": 4,
 "nbformat_minor": 5
}
