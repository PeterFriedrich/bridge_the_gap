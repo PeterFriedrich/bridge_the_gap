{
 "cells": [
  {
   "cell_type": "markdown",
   "id": "a555f5e5",
   "metadata": {},
   "source": [
    "### Geospatial Analysis Notebook\n",
    "This notebook is basically for messing around with provided shapefiles to try and get some maps working."
   ]
  },
  {
   "cell_type": "markdown",
   "id": "bac91275",
   "metadata": {},
   "source": [
    "#### Altalis Shape Files\n",
    "Apparently its a not for profit dealing with Geo-data/Imagery company in Alberta."
   ]
  },
  {
   "cell_type": "code",
   "execution_count": null,
   "id": "5d9bfa2a",
   "metadata": {},
   "outputs": [],
   "source": []
  }
 ],
 "metadata": {
  "kernelspec": {
   "display_name": "basic-data-env",
   "language": "python",
   "name": "basic-data-env"
  },
  "language_info": {
   "codemirror_mode": {
    "name": "ipython",
    "version": 3
   },
   "file_extension": ".py",
   "mimetype": "text/x-python",
   "name": "python",
   "nbconvert_exporter": "python",
   "pygments_lexer": "ipython3",
   "version": "3.8.2"
  }
 },
 "nbformat": 4,
 "nbformat_minor": 5
}
