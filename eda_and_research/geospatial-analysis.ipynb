{
 "cells": [
  {
   "cell_type": "markdown",
   "id": "7c3b4186",
   "metadata": {},
   "source": [
    "### Geospatial Analysis Notebook\n",
    "This notebook is basically for messing around with provided shapefiles to try and get some maps working."
   ]
  },
  {
   "cell_type": "code",
   "execution_count": 5,
   "id": "77002562",
   "metadata": {},
   "outputs": [],
   "source": [
    "import geopandas as gpd"
   ]
  },
  {
   "cell_type": "markdown",
   "id": "155aae55",
   "metadata": {},
   "source": [
    "#### Altalis Shape Files\n",
    "Apparently its a not for profit dealing with Geo-data/Imagery company in Alberta."
   ]
  },
  {
   "cell_type": "code",
   "execution_count": 4,
   "id": "f8990775",
   "metadata": {},
   "outputs": [
    {
     "name": "stdout",
     "output_type": "stream",
     "text": [
      " CITY.dbf                                  RURAL.prj\r\n",
      " CITY.prj                                  RURAL.shp\r\n",
      " CITY.shp                                  RURAL.shx\r\n",
      " CITY.shx                                  SVILLAGE.dbf\r\n",
      " HAMLETPT.dbf                              SVILLAGE.prj\r\n",
      " HAMLETPT.prj                              SVILLAGE.shp\r\n",
      " HAMLETPT.shp                              SVILLAGE.shx\r\n",
      " HAMLETPT.shx                              TOWN.dbf\r\n",
      " INDIAN.dbf                                TOWN.prj\r\n",
      " INDIAN.prj                                TOWN.shp\r\n",
      " INDIAN.shp                                TOWN.shx\r\n",
      " INDIAN.shx                                urbserv.dbf\r\n",
      "'Municipal Boundary Change Tracker.xlsx'   urbserv.prj\r\n",
      "'Municipal Boundary.pdf'                   urbserv.shp\r\n",
      " OCTEXT.dbf                                urbserv.shx\r\n",
      " OCTEXT.prj                                VILLAGE.dbf\r\n",
      " OCTEXT.shp                                VILLAGE.prj\r\n",
      " OCTEXT.shx                                VILLAGE.shp\r\n",
      " RURAL.dbf                                 VILLAGE.shx\r\n"
     ]
    }
   ],
   "source": [
    "ls ../data/Municipal_Boundaries_SHP_Geographic/"
   ]
  },
  {
   "cell_type": "markdown",
   "id": "83a806c1",
   "metadata": {},
   "source": [
    "What's the difference between all these different files?"
   ]
  },
  {
   "cell_type": "code",
   "execution_count": null,
   "id": "ac4f90f4",
   "metadata": {},
   "outputs": [],
   "source": [
    "file_path = \"../data/Municipal_Boundaries_SHP_Geographic/\""
   ]
  },
  {
   "cell_type": "code",
   "execution_count": null,
   "id": "38082fc6",
   "metadata": {},
   "outputs": [],
   "source": [
    "city_df = gpd.read_file()"
   ]
  }
 ],
 "metadata": {
  "kernelspec": {
   "display_name": "basic-data-env",
   "language": "python",
   "name": "basic-data-env"
  },
  "language_info": {
   "codemirror_mode": {
    "name": "ipython",
    "version": 3
   },
   "file_extension": ".py",
   "mimetype": "text/x-python",
   "name": "python",
   "nbconvert_exporter": "python",
   "pygments_lexer": "ipython3",
   "version": "3.8.2"
  }
 },
 "nbformat": 4,
 "nbformat_minor": 5
}
