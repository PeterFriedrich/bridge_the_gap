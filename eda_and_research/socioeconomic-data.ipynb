{
 "cells": [
  {
   "cell_type": "markdown",
   "id": "de08c4e9",
   "metadata": {},
   "source": [
    "### Socioeconomic Data From Stats Canada"
   ]
  },
  {
   "cell_type": "code",
   "execution_count": 36,
   "id": "bf494cfb",
   "metadata": {},
   "outputs": [],
   "source": [
    "import pandas as pd\n",
    "from pathlib import Path\n",
    "import plotly.express as px"
   ]
  },
  {
   "cell_type": "code",
   "execution_count": 13,
   "id": "71b41538",
   "metadata": {},
   "outputs": [
    {
     "name": "stdout",
     "output_type": "stream",
     "text": [
      "1410036401_databaseLoadingData.csv  4610003601_databaseLoadingData.csv\r\n",
      "2210011301_databaseLoadingData.csv\r\n"
     ]
    }
   ],
   "source": [
    "ls ../data/stats_can"
   ]
  },
  {
   "cell_type": "code",
   "execution_count": 20,
   "id": "ca1995da",
   "metadata": {},
   "outputs": [],
   "source": [
    "filepath = Path(\"../data/stats_can\")"
   ]
  },
  {
   "cell_type": "code",
   "execution_count": 30,
   "id": "3aac39b1",
   "metadata": {},
   "outputs": [],
   "source": [
    "house_df = pd.read_csv(filepath/\"4610003601_databaseLoadingData.csv\")\n",
    "labour_df = pd.read_csv(filepath/\"1410036401_databaseLoadingData.csv\")\n",
    "tech_df = pd.read_csv(filepath/\"2210011301_databaseLoadingData.csv\")"
   ]
  },
  {
   "cell_type": "code",
   "execution_count": 31,
   "id": "e27d2d22",
   "metadata": {},
   "outputs": [
    {
     "data": {
      "text/plain": [
       "((76, 17), (120, 18), (8, 17))"
      ]
     },
     "execution_count": 31,
     "metadata": {},
     "output_type": "execute_result"
    }
   ],
   "source": [
    "house_df.shape, labour_df.shape, tech_df.shape"
   ]
  },
  {
   "cell_type": "code",
   "execution_count": 33,
   "id": "6f830442",
   "metadata": {},
   "outputs": [
    {
     "data": {
      "text/plain": [
       "Index(['REF_DATE', 'GEO', 'DGUID', 'Dwelling tenure',\n",
       "       'Selected housing indicators', 'Statistics', 'UOM', 'UOM_ID',\n",
       "       'SCALAR_FACTOR', 'SCALAR_ID', 'VECTOR', 'COORDINATE', 'VALUE', 'STATUS',\n",
       "       'SYMBOL', 'TERMINATED', 'DECIMALS'],\n",
       "      dtype='object')"
      ]
     },
     "execution_count": 33,
     "metadata": {},
     "output_type": "execute_result"
    }
   ],
   "source": [
    "house_df.columns"
   ]
  },
  {
   "cell_type": "code",
   "execution_count": 34,
   "id": "0f41e6b6",
   "metadata": {},
   "outputs": [
    {
     "data": {
      "text/plain": [
       "Index(['REF_DATE', 'GEO', 'DGUID', 'Indigenous group',\n",
       "       'Labour force characteristics', 'Sex', 'Age group', 'UOM', 'UOM_ID',\n",
       "       'SCALAR_FACTOR', 'SCALAR_ID', 'VECTOR', 'COORDINATE', 'VALUE', 'STATUS',\n",
       "       'SYMBOL', 'TERMINATED', 'DECIMALS'],\n",
       "      dtype='object')"
      ]
     },
     "execution_count": 34,
     "metadata": {},
     "output_type": "execute_result"
    }
   ],
   "source": [
    "labour_df.columns"
   ]
  },
  {
   "cell_type": "code",
   "execution_count": 35,
   "id": "2b5476e0",
   "metadata": {},
   "outputs": [
    {
     "data": {
      "text/plain": [
       "Index(['REF_DATE', 'GEO', 'DGUID', 'Type of Internet service and technology',\n",
       "       'Age group', 'Household income quartile', 'UOM', 'UOM_ID',\n",
       "       'SCALAR_FACTOR', 'SCALAR_ID', 'VECTOR', 'COORDINATE', 'VALUE', 'STATUS',\n",
       "       'SYMBOL', 'TERMINATED', 'DECIMALS'],\n",
       "      dtype='object')"
      ]
     },
     "execution_count": 35,
     "metadata": {},
     "output_type": "execute_result"
    }
   ],
   "source": [
    "tech_df.columns"
   ]
  },
  {
   "cell_type": "code",
   "execution_count": 46,
   "id": "e2eb2e0e",
   "metadata": {},
   "outputs": [
    {
     "data": {
      "text/plain": [
       "0    Canada\n",
       "1    Canada\n",
       "2    Canada\n",
       "3    Canada\n",
       "4    Canada\n",
       "5    Canada\n",
       "6    Canada\n",
       "7    Canada\n",
       "Name: GEO, dtype: object"
      ]
     },
     "execution_count": 46,
     "metadata": {},
     "output_type": "execute_result"
    }
   ],
   "source": [
    "tech_df[\"GEO\"]"
   ]
  },
  {
   "cell_type": "code",
   "execution_count": null,
   "id": "e8084db6",
   "metadata": {},
   "outputs": [],
   "source": []
  }
 ],
 "metadata": {
  "kernelspec": {
   "display_name": "basic-data-env",
   "language": "python",
   "name": "basic-data-env"
  },
  "language_info": {
   "codemirror_mode": {
    "name": "ipython",
    "version": 3
   },
   "file_extension": ".py",
   "mimetype": "text/x-python",
   "name": "python",
   "nbconvert_exporter": "python",
   "pygments_lexer": "ipython3",
   "version": "3.8.2"
  }
 },
 "nbformat": 4,
 "nbformat_minor": 5
}
