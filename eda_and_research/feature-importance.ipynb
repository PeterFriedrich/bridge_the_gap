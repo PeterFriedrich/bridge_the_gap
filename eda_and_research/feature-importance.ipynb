{
 "cells": [
  {
   "cell_type": "markdown",
   "id": "1d1c1276",
   "metadata": {},
   "source": [
    "### Random Forest with Feature Importance\n",
    "- it's possible that boundaries are important, beyond exact latitude and longitude, because different laws or institutions may exist in different areas, particularily on reserves. Unfortunately this specific boundary map seems to be lacking reserves."
   ]
  },
  {
   "cell_type": "code",
   "execution_count": 6,
   "id": "ce9df9a4",
   "metadata": {},
   "outputs": [
    {
     "name": "stdout",
     "output_type": "stream",
     "text": [
      "Alberta_CSD2016.dbf  Alberta_CSD2016.sbn  \u001b[0m\u001b[01;31mAlberta_CSD2016.zip\u001b[0m\r\n",
      "Alberta_CSD2016.pdf  Alberta_CSD2016.shp\r\n",
      "Alberta_CSD2016.prj  Alberta_CSD2016.shx\r\n"
     ]
    }
   ],
   "source": [
    "ls ../data/Alberta-csd-reserves/"
   ]
  },
  {
   "cell_type": "code",
   "execution_count": 5,
   "id": "093136f2",
   "metadata": {},
   "outputs": [],
   "source": [
    "import geopandas as gpd"
   ]
  },
  {
   "cell_type": "code",
   "execution_count": 7,
   "id": "28143d26",
   "metadata": {},
   "outputs": [],
   "source": [
    "boundary_gdf = gpd.read_file(\"../data/Alberta-csd-reserves/Alberta_CSD2016.shp\")"
   ]
  },
  {
   "cell_type": "code",
   "execution_count": 11,
   "id": "6068ce79",
   "metadata": {},
   "outputs": [
    {
     "data": {
      "text/plain": [
       "array(['Banff--Jasper--Rocky Mountain House', 'Wood Buffalo--Cold Lake',\n",
       "       'Red Deer', 'Athabasca--Grande Prairie--Peace River',\n",
       "       'Lethbridge--Medicine Hat', 'Camrose--Drumheller', 'Calgary',\n",
       "       'Edmonton'], dtype=object)"
      ]
     },
     "execution_count": 11,
     "metadata": {},
     "output_type": "execute_result"
    }
   ],
   "source": [
    "boundary_gdf.ERNAME.unique()"
   ]
  },
  {
   "cell_type": "markdown",
   "id": "0dbcda27",
   "metadata": {},
   "source": [
    "### EDA"
   ]
  },
  {
   "cell_type": "markdown",
   "id": "5f7afbc4",
   "metadata": {},
   "source": [
    "### Pre-Processing"
   ]
  },
  {
   "cell_type": "markdown",
   "id": "b7e37786",
   "metadata": {},
   "source": [
    "### Feature Engineering"
   ]
  },
  {
   "cell_type": "markdown",
   "id": "69400f66",
   "metadata": {},
   "source": [
    "### Test-Train Splits"
   ]
  },
  {
   "cell_type": "markdown",
   "id": "511c35a9",
   "metadata": {},
   "source": [
    "### Modeling"
   ]
  },
  {
   "cell_type": "code",
   "execution_count": null,
   "id": "22a1f63d",
   "metadata": {},
   "outputs": [],
   "source": []
  }
 ],
 "metadata": {
  "kernelspec": {
   "display_name": "basic-data-env",
   "language": "python",
   "name": "basic-data-env"
  },
  "language_info": {
   "codemirror_mode": {
    "name": "ipython",
    "version": 3
   },
   "file_extension": ".py",
   "mimetype": "text/x-python",
   "name": "python",
   "nbconvert_exporter": "python",
   "pygments_lexer": "ipython3",
   "version": "3.8.2"
  }
 },
 "nbformat": 4,
 "nbformat_minor": 5
}
