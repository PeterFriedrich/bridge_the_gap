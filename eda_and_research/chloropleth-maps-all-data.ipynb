{
 "cells": [
  {
   "cell_type": "markdown",
   "id": "f5029212",
   "metadata": {},
   "source": [
    "### Chloropleth maps\n",
    "\n",
    "#### TODO:\n",
    "- convert the ookla polygons to markers based centroid\n",
    "- convert the cira data to shapely? format\n",
    "- count up the number of test that fall within each boundary\n",
    "\n",
    "#### Questions\n",
    "- how to handle area intersections"
   ]
  },
  {
   "cell_type": "code",
   "execution_count": 3,
   "id": "7ba9981a",
   "metadata": {},
   "outputs": [],
   "source": [
    "import geopandas as gpd\n",
    "import pandas as pd\n",
    "from pathlib import Path"
   ]
  },
  {
   "cell_type": "markdown",
   "id": "df9e1bbb",
   "metadata": {},
   "source": [
    "#### Data Loading"
   ]
  },
  {
   "cell_type": "code",
   "execution_count": 4,
   "id": "5bcd9217",
   "metadata": {},
   "outputs": [],
   "source": [
    "file_path = Path(\"../data/Municipal_Boundaries_SHP_Geographic/\")"
   ]
  },
  {
   "cell_type": "code",
   "execution_count": 5,
   "id": "d6984be5",
   "metadata": {},
   "outputs": [],
   "source": [
    "city_df = gpd.read_file(file_path/\"CITY.shp\")\n",
    "hamlet_df = gpd.read_file(file_path/\"HAMLETPT.shp\")\n",
    "indian_df = gpd.read_file(file_path/\"INDIAN.shp\")\n",
    "octext_df = gpd.read_file(file_path/\"OCTEXT.shp\")\n",
    "\n",
    "rural_df = gpd.read_file(file_path/\"RURAL.shp\")\n",
    "svillage_df = gpd.read_file(file_path/\"SVILLAGE.shp\")\n",
    "town_df = gpd.read_file(file_path/\"TOWN.shp\")\n",
    "urbserv_df = gpd.read_file(file_path/\"urbserv.shp\")\n",
    "village_df = gpd.read_file(file_path/\"VILLAGE.shp\")"
   ]
  },
  {
   "cell_type": "code",
   "execution_count": 78,
   "id": "de361b84",
   "metadata": {},
   "outputs": [
    {
     "name": "stdout",
     "output_type": "stream",
     "text": [
      "epsg:4269 epsg:4269\n"
     ]
    }
   ],
   "source": [
    "print(city_df.crs, rural_df.crs)"
   ]
  },
  {
   "cell_type": "code",
   "execution_count": 6,
   "id": "403d7a3f",
   "metadata": {},
   "outputs": [],
   "source": [
    "ookla_df = gpd.read_file(\"../data/ookla/AB_ookla_data_2020.shp\")"
   ]
  },
  {
   "cell_type": "code",
   "execution_count": 52,
   "id": "6ee23bdc",
   "metadata": {},
   "outputs": [],
   "source": [
    "# load in the cira df as gpd, with crs?\n",
    "cira = pd.read_csv(\"../data/cira-internet-performance.csv\")"
   ]
  },
  {
   "cell_type": "code",
   "execution_count": 53,
   "id": "17f7db7c",
   "metadata": {},
   "outputs": [
    {
     "data": {
      "text/html": [
       "<div>\n",
       "<style scoped>\n",
       "    .dataframe tbody tr th:only-of-type {\n",
       "        vertical-align: middle;\n",
       "    }\n",
       "\n",
       "    .dataframe tbody tr th {\n",
       "        vertical-align: top;\n",
       "    }\n",
       "\n",
       "    .dataframe thead th {\n",
       "        text-align: right;\n",
       "    }\n",
       "</style>\n",
       "<table border=\"1\" class=\"dataframe\">\n",
       "  <thead>\n",
       "    <tr style=\"text-align: right;\">\n",
       "      <th></th>\n",
       "      <th>TEST ID</th>\n",
       "      <th>TEST DATE / UTC HOUR</th>\n",
       "      <th>GEO LATITUDE</th>\n",
       "      <th>GEO LONGITUDE</th>\n",
       "      <th>DOWNLOAD SPEED</th>\n",
       "      <th>UPLOAD SPEED</th>\n",
       "      <th>JITTER</th>\n",
       "      <th>LATENCY</th>\n",
       "      <th>PACKET LOSS</th>\n",
       "      <th>IPV6 SUPPORTED</th>\n",
       "      <th>...</th>\n",
       "      <th>TEST SERVER</th>\n",
       "      <th>browser_test_url</th>\n",
       "      <th>CONTRACTED DOWNLOAD SPEED</th>\n",
       "      <th>CONTRACTED UPLOAD SPEED</th>\n",
       "      <th>CONTRACTED DATA CAP</th>\n",
       "      <th>CONTRACTED MONTHLY COST</th>\n",
       "      <th>SERVICE TYPE</th>\n",
       "      <th>USER SATISFACTION</th>\n",
       "      <th>USER COMMENTS</th>\n",
       "      <th>HEATMAP_MUNICIPALITY</th>\n",
       "    </tr>\n",
       "  </thead>\n",
       "  <tbody>\n",
       "    <tr>\n",
       "      <th>0</th>\n",
       "      <td>366</td>\n",
       "      <td>2015-05-20 10:01</td>\n",
       "      <td>53.631757</td>\n",
       "      <td>-110.030811</td>\n",
       "      <td>1.28</td>\n",
       "      <td>0.86</td>\n",
       "      <td>NaN</td>\n",
       "      <td>NaN</td>\n",
       "      <td>NaN</td>\n",
       "      <td>False</td>\n",
       "      <td>...</td>\n",
       "      <td>Montreal</td>\n",
       "      <td>NaN</td>\n",
       "      <td>NaN</td>\n",
       "      <td>NaN</td>\n",
       "      <td>NaN</td>\n",
       "      <td>NaN</td>\n",
       "      <td>NaN</td>\n",
       "      <td>NaN</td>\n",
       "      <td>NaN</td>\n",
       "      <td>County of Vermilion River</td>\n",
       "    </tr>\n",
       "    <tr>\n",
       "      <th>1</th>\n",
       "      <td>451</td>\n",
       "      <td>2015-05-22 10:00</td>\n",
       "      <td>53.381155</td>\n",
       "      <td>-113.861499</td>\n",
       "      <td>9.15</td>\n",
       "      <td>0.90</td>\n",
       "      <td>NaN</td>\n",
       "      <td>NaN</td>\n",
       "      <td>NaN</td>\n",
       "      <td>False</td>\n",
       "      <td>...</td>\n",
       "      <td>Toronto</td>\n",
       "      <td>NaN</td>\n",
       "      <td>NaN</td>\n",
       "      <td>NaN</td>\n",
       "      <td>NaN</td>\n",
       "      <td>NaN</td>\n",
       "      <td>NaN</td>\n",
       "      <td>NaN</td>\n",
       "      <td>NaN</td>\n",
       "      <td>Parkland County</td>\n",
       "    </tr>\n",
       "    <tr>\n",
       "      <th>2</th>\n",
       "      <td>460</td>\n",
       "      <td>2015-05-22 10:00</td>\n",
       "      <td>49.957702</td>\n",
       "      <td>-110.271767</td>\n",
       "      <td>0.54</td>\n",
       "      <td>0.58</td>\n",
       "      <td>NaN</td>\n",
       "      <td>NaN</td>\n",
       "      <td>NaN</td>\n",
       "      <td>False</td>\n",
       "      <td>...</td>\n",
       "      <td>Toronto</td>\n",
       "      <td>NaN</td>\n",
       "      <td>NaN</td>\n",
       "      <td>NaN</td>\n",
       "      <td>NaN</td>\n",
       "      <td>NaN</td>\n",
       "      <td>NaN</td>\n",
       "      <td>NaN</td>\n",
       "      <td>NaN</td>\n",
       "      <td>Cypress County</td>\n",
       "    </tr>\n",
       "    <tr>\n",
       "      <th>3</th>\n",
       "      <td>1039</td>\n",
       "      <td>2015-05-20 10:00</td>\n",
       "      <td>53.474081</td>\n",
       "      <td>-112.951316</td>\n",
       "      <td>0.50</td>\n",
       "      <td>0.77</td>\n",
       "      <td>NaN</td>\n",
       "      <td>NaN</td>\n",
       "      <td>NaN</td>\n",
       "      <td>False</td>\n",
       "      <td>...</td>\n",
       "      <td>Toronto</td>\n",
       "      <td>NaN</td>\n",
       "      <td>NaN</td>\n",
       "      <td>NaN</td>\n",
       "      <td>NaN</td>\n",
       "      <td>NaN</td>\n",
       "      <td>NaN</td>\n",
       "      <td>NaN</td>\n",
       "      <td>NaN</td>\n",
       "      <td>Strathcona County</td>\n",
       "    </tr>\n",
       "    <tr>\n",
       "      <th>4</th>\n",
       "      <td>1109</td>\n",
       "      <td>2015-05-19 10:00</td>\n",
       "      <td>51.575186</td>\n",
       "      <td>-112.869397</td>\n",
       "      <td>2.64</td>\n",
       "      <td>1.12</td>\n",
       "      <td>NaN</td>\n",
       "      <td>NaN</td>\n",
       "      <td>NaN</td>\n",
       "      <td>False</td>\n",
       "      <td>...</td>\n",
       "      <td>Calgary</td>\n",
       "      <td>NaN</td>\n",
       "      <td>NaN</td>\n",
       "      <td>NaN</td>\n",
       "      <td>NaN</td>\n",
       "      <td>NaN</td>\n",
       "      <td>NaN</td>\n",
       "      <td>NaN</td>\n",
       "      <td>NaN</td>\n",
       "      <td>Starland County</td>\n",
       "    </tr>\n",
       "  </tbody>\n",
       "</table>\n",
       "<p>5 rows × 21 columns</p>\n",
       "</div>"
      ],
      "text/plain": [
       "   TEST ID TEST DATE / UTC HOUR  GEO LATITUDE  GEO LONGITUDE  DOWNLOAD SPEED  \\\n",
       "0      366     2015-05-20 10:01     53.631757    -110.030811            1.28   \n",
       "1      451     2015-05-22 10:00     53.381155    -113.861499            9.15   \n",
       "2      460     2015-05-22 10:00     49.957702    -110.271767            0.54   \n",
       "3     1039     2015-05-20 10:00     53.474081    -112.951316            0.50   \n",
       "4     1109     2015-05-19 10:00     51.575186    -112.869397            2.64   \n",
       "\n",
       "   UPLOAD SPEED  JITTER  LATENCY  PACKET LOSS  IPV6 SUPPORTED  ...  \\\n",
       "0          0.86     NaN      NaN          NaN           False  ...   \n",
       "1          0.90     NaN      NaN          NaN           False  ...   \n",
       "2          0.58     NaN      NaN          NaN           False  ...   \n",
       "3          0.77     NaN      NaN          NaN           False  ...   \n",
       "4          1.12     NaN      NaN          NaN           False  ...   \n",
       "\n",
       "   TEST SERVER browser_test_url CONTRACTED DOWNLOAD SPEED  \\\n",
       "0     Montreal              NaN                       NaN   \n",
       "1      Toronto              NaN                       NaN   \n",
       "2      Toronto              NaN                       NaN   \n",
       "3      Toronto              NaN                       NaN   \n",
       "4      Calgary              NaN                       NaN   \n",
       "\n",
       "  CONTRACTED UPLOAD SPEED CONTRACTED DATA CAP CONTRACTED MONTHLY COST  \\\n",
       "0                     NaN                 NaN                     NaN   \n",
       "1                     NaN                 NaN                     NaN   \n",
       "2                     NaN                 NaN                     NaN   \n",
       "3                     NaN                 NaN                     NaN   \n",
       "4                     NaN                 NaN                     NaN   \n",
       "\n",
       "  SERVICE TYPE USER SATISFACTION  USER COMMENTS       HEATMAP_MUNICIPALITY  \n",
       "0          NaN               NaN            NaN  County of Vermilion River  \n",
       "1          NaN               NaN            NaN            Parkland County  \n",
       "2          NaN               NaN            NaN             Cypress County  \n",
       "3          NaN               NaN            NaN          Strathcona County  \n",
       "4          NaN               NaN            NaN            Starland County  \n",
       "\n",
       "[5 rows x 21 columns]"
      ]
     },
     "execution_count": 53,
     "metadata": {},
     "output_type": "execute_result"
    }
   ],
   "source": [
    "cira.head()"
   ]
  },
  {
   "cell_type": "code",
   "execution_count": 59,
   "id": "daba5736",
   "metadata": {},
   "outputs": [],
   "source": [
    "cira_df = gpd.GeoDataFrame(cira, geometry=gpd.points_from_xy(cira[\"GEO LONGITUDE\"], cira[\"GEO LATITUDE\"]))\n",
    "cira_df.drop([\"GEO LONGITUDE\", \"GEO LATITUDE\"], axis=1, inplace=True)\n",
    "cira_df.{'init': 'epsg:4326'}"
   ]
  },
  {
   "cell_type": "code",
   "execution_count": 76,
   "id": "3b3ef468",
   "metadata": {},
   "outputs": [
    {
     "name": "stdout",
     "output_type": "stream",
     "text": [
      "None\n"
     ]
    }
   ],
   "source": [
    "print(cira_df.crs)"
   ]
  },
  {
   "cell_type": "code",
   "execution_count": 62,
   "id": "d799aa70",
   "metadata": {},
   "outputs": [
    {
     "data": {
      "text/html": [
       "<div>\n",
       "<style scoped>\n",
       "    .dataframe tbody tr th:only-of-type {\n",
       "        vertical-align: middle;\n",
       "    }\n",
       "\n",
       "    .dataframe tbody tr th {\n",
       "        vertical-align: top;\n",
       "    }\n",
       "\n",
       "    .dataframe thead th {\n",
       "        text-align: right;\n",
       "    }\n",
       "</style>\n",
       "<table border=\"1\" class=\"dataframe\">\n",
       "  <thead>\n",
       "    <tr style=\"text-align: right;\">\n",
       "      <th></th>\n",
       "      <th>TEST ID</th>\n",
       "      <th>TEST DATE / UTC HOUR</th>\n",
       "      <th>DOWNLOAD SPEED</th>\n",
       "      <th>UPLOAD SPEED</th>\n",
       "      <th>JITTER</th>\n",
       "      <th>LATENCY</th>\n",
       "      <th>PACKET LOSS</th>\n",
       "      <th>IPV6 SUPPORTED</th>\n",
       "      <th>DNSSEC SUPPORTED</th>\n",
       "      <th>TEST SERVER</th>\n",
       "      <th>browser_test_url</th>\n",
       "      <th>CONTRACTED DOWNLOAD SPEED</th>\n",
       "      <th>CONTRACTED UPLOAD SPEED</th>\n",
       "      <th>CONTRACTED DATA CAP</th>\n",
       "      <th>CONTRACTED MONTHLY COST</th>\n",
       "      <th>SERVICE TYPE</th>\n",
       "      <th>USER SATISFACTION</th>\n",
       "      <th>USER COMMENTS</th>\n",
       "      <th>HEATMAP_MUNICIPALITY</th>\n",
       "      <th>geometry</th>\n",
       "    </tr>\n",
       "  </thead>\n",
       "  <tbody>\n",
       "    <tr>\n",
       "      <th>0</th>\n",
       "      <td>366</td>\n",
       "      <td>2015-05-20 10:01</td>\n",
       "      <td>1.28</td>\n",
       "      <td>0.86</td>\n",
       "      <td>NaN</td>\n",
       "      <td>NaN</td>\n",
       "      <td>NaN</td>\n",
       "      <td>False</td>\n",
       "      <td>False</td>\n",
       "      <td>Montreal</td>\n",
       "      <td>NaN</td>\n",
       "      <td>NaN</td>\n",
       "      <td>NaN</td>\n",
       "      <td>NaN</td>\n",
       "      <td>NaN</td>\n",
       "      <td>NaN</td>\n",
       "      <td>NaN</td>\n",
       "      <td>NaN</td>\n",
       "      <td>County of Vermilion River</td>\n",
       "      <td>POINT (-110.03081 53.63176)</td>\n",
       "    </tr>\n",
       "    <tr>\n",
       "      <th>1</th>\n",
       "      <td>451</td>\n",
       "      <td>2015-05-22 10:00</td>\n",
       "      <td>9.15</td>\n",
       "      <td>0.90</td>\n",
       "      <td>NaN</td>\n",
       "      <td>NaN</td>\n",
       "      <td>NaN</td>\n",
       "      <td>False</td>\n",
       "      <td>False</td>\n",
       "      <td>Toronto</td>\n",
       "      <td>NaN</td>\n",
       "      <td>NaN</td>\n",
       "      <td>NaN</td>\n",
       "      <td>NaN</td>\n",
       "      <td>NaN</td>\n",
       "      <td>NaN</td>\n",
       "      <td>NaN</td>\n",
       "      <td>NaN</td>\n",
       "      <td>Parkland County</td>\n",
       "      <td>POINT (-113.86150 53.38115)</td>\n",
       "    </tr>\n",
       "    <tr>\n",
       "      <th>2</th>\n",
       "      <td>460</td>\n",
       "      <td>2015-05-22 10:00</td>\n",
       "      <td>0.54</td>\n",
       "      <td>0.58</td>\n",
       "      <td>NaN</td>\n",
       "      <td>NaN</td>\n",
       "      <td>NaN</td>\n",
       "      <td>False</td>\n",
       "      <td>True</td>\n",
       "      <td>Toronto</td>\n",
       "      <td>NaN</td>\n",
       "      <td>NaN</td>\n",
       "      <td>NaN</td>\n",
       "      <td>NaN</td>\n",
       "      <td>NaN</td>\n",
       "      <td>NaN</td>\n",
       "      <td>NaN</td>\n",
       "      <td>NaN</td>\n",
       "      <td>Cypress County</td>\n",
       "      <td>POINT (-110.27177 49.95770)</td>\n",
       "    </tr>\n",
       "  </tbody>\n",
       "</table>\n",
       "</div>"
      ],
      "text/plain": [
       "   TEST ID TEST DATE / UTC HOUR  DOWNLOAD SPEED  UPLOAD SPEED  JITTER  \\\n",
       "0      366     2015-05-20 10:01            1.28          0.86     NaN   \n",
       "1      451     2015-05-22 10:00            9.15          0.90     NaN   \n",
       "2      460     2015-05-22 10:00            0.54          0.58     NaN   \n",
       "\n",
       "   LATENCY  PACKET LOSS  IPV6 SUPPORTED  DNSSEC SUPPORTED TEST SERVER  \\\n",
       "0      NaN          NaN           False             False    Montreal   \n",
       "1      NaN          NaN           False             False     Toronto   \n",
       "2      NaN          NaN           False              True     Toronto   \n",
       "\n",
       "  browser_test_url CONTRACTED DOWNLOAD SPEED CONTRACTED UPLOAD SPEED  \\\n",
       "0              NaN                       NaN                     NaN   \n",
       "1              NaN                       NaN                     NaN   \n",
       "2              NaN                       NaN                     NaN   \n",
       "\n",
       "  CONTRACTED DATA CAP CONTRACTED MONTHLY COST SERVICE TYPE  USER SATISFACTION  \\\n",
       "0                 NaN                     NaN          NaN                NaN   \n",
       "1                 NaN                     NaN          NaN                NaN   \n",
       "2                 NaN                     NaN          NaN                NaN   \n",
       "\n",
       "  USER COMMENTS       HEATMAP_MUNICIPALITY                     geometry  \n",
       "0           NaN  County of Vermilion River  POINT (-110.03081 53.63176)  \n",
       "1           NaN            Parkland County  POINT (-113.86150 53.38115)  \n",
       "2           NaN             Cypress County  POINT (-110.27177 49.95770)  "
      ]
     },
     "execution_count": 62,
     "metadata": {},
     "output_type": "execute_result"
    }
   ],
   "source": [
    "cira_df.head(3)"
   ]
  },
  {
   "cell_type": "markdown",
   "id": "26aef6bc",
   "metadata": {},
   "source": [
    "#### Get the Centroid of Ookla polygons\n",
    "- apparently i need to project to a crs where the centroid will be in accurate? Centroid calculation seems to rely on distance, so a projection that preserves distance **(Azimuthal Equidistant projection)?**\n",
    "1. Change project?\n",
    "2. Do calculation?"
   ]
  },
  {
   "cell_type": "code",
   "execution_count": 37,
   "id": "6b1c9f92",
   "metadata": {},
   "outputs": [
    {
     "data": {
      "text/html": [
       "<div>\n",
       "<style scoped>\n",
       "    .dataframe tbody tr th:only-of-type {\n",
       "        vertical-align: middle;\n",
       "    }\n",
       "\n",
       "    .dataframe tbody tr th {\n",
       "        vertical-align: top;\n",
       "    }\n",
       "\n",
       "    .dataframe thead th {\n",
       "        text-align: right;\n",
       "    }\n",
       "</style>\n",
       "<table border=\"1\" class=\"dataframe\">\n",
       "  <thead>\n",
       "    <tr style=\"text-align: right;\">\n",
       "      <th></th>\n",
       "      <th>quadkey</th>\n",
       "      <th>avg_d_kbps</th>\n",
       "      <th>avg_u_kbps</th>\n",
       "      <th>avg_lat_ms</th>\n",
       "      <th>tests</th>\n",
       "      <th>devices</th>\n",
       "      <th>quarter</th>\n",
       "      <th>conn_type</th>\n",
       "      <th>geometry</th>\n",
       "    </tr>\n",
       "  </thead>\n",
       "  <tbody>\n",
       "    <tr>\n",
       "      <th>0</th>\n",
       "      <td>0212113033010133</td>\n",
       "      <td>807</td>\n",
       "      <td>273</td>\n",
       "      <td>84</td>\n",
       "      <td>1</td>\n",
       "      <td>1</td>\n",
       "      <td>Q1</td>\n",
       "      <td>fixed</td>\n",
       "      <td>POLYGON ((-114.13147 53.53051, -114.12598 53.5...</td>\n",
       "    </tr>\n",
       "    <tr>\n",
       "      <th>1</th>\n",
       "      <td>0212113123020220</td>\n",
       "      <td>82062</td>\n",
       "      <td>11294</td>\n",
       "      <td>19</td>\n",
       "      <td>34</td>\n",
       "      <td>4</td>\n",
       "      <td>Q1</td>\n",
       "      <td>fixed</td>\n",
       "      <td>POLYGON ((-113.55469 53.46843, -113.54919 53.4...</td>\n",
       "    </tr>\n",
       "    <tr>\n",
       "      <th>2</th>\n",
       "      <td>0212131212333013</td>\n",
       "      <td>9741</td>\n",
       "      <td>1382</td>\n",
       "      <td>24</td>\n",
       "      <td>7</td>\n",
       "      <td>2</td>\n",
       "      <td>Q1</td>\n",
       "      <td>fixed</td>\n",
       "      <td>POLYGON ((-114.28528 51.20344, -114.27979 51.2...</td>\n",
       "    </tr>\n",
       "    <tr>\n",
       "      <th>3</th>\n",
       "      <td>0213002023012223</td>\n",
       "      <td>81989</td>\n",
       "      <td>39432</td>\n",
       "      <td>13</td>\n",
       "      <td>56</td>\n",
       "      <td>7</td>\n",
       "      <td>Q1</td>\n",
       "      <td>fixed</td>\n",
       "      <td>POLYGON ((-112.05505 53.49131, -112.04956 53.4...</td>\n",
       "    </tr>\n",
       "    <tr>\n",
       "      <th>4</th>\n",
       "      <td>0212113301112020</td>\n",
       "      <td>4405</td>\n",
       "      <td>2300</td>\n",
       "      <td>37</td>\n",
       "      <td>3</td>\n",
       "      <td>1</td>\n",
       "      <td>Q1</td>\n",
       "      <td>fixed</td>\n",
       "      <td>POLYGON ((-113.29102 53.29806, -113.28552 53.2...</td>\n",
       "    </tr>\n",
       "  </tbody>\n",
       "</table>\n",
       "</div>"
      ],
      "text/plain": [
       "            quadkey  avg_d_kbps  avg_u_kbps  avg_lat_ms  tests  devices  \\\n",
       "0  0212113033010133         807         273          84      1        1   \n",
       "1  0212113123020220       82062       11294          19     34        4   \n",
       "2  0212131212333013        9741        1382          24      7        2   \n",
       "3  0213002023012223       81989       39432          13     56        7   \n",
       "4  0212113301112020        4405        2300          37      3        1   \n",
       "\n",
       "  quarter conn_type                                           geometry  \n",
       "0      Q1     fixed  POLYGON ((-114.13147 53.53051, -114.12598 53.5...  \n",
       "1      Q1     fixed  POLYGON ((-113.55469 53.46843, -113.54919 53.4...  \n",
       "2      Q1     fixed  POLYGON ((-114.28528 51.20344, -114.27979 51.2...  \n",
       "3      Q1     fixed  POLYGON ((-112.05505 53.49131, -112.04956 53.4...  \n",
       "4      Q1     fixed  POLYGON ((-113.29102 53.29806, -113.28552 53.2...  "
      ]
     },
     "execution_count": 37,
     "metadata": {},
     "output_type": "execute_result"
    }
   ],
   "source": [
    "ookla_df.head()"
   ]
  },
  {
   "cell_type": "code",
   "execution_count": 75,
   "id": "b897b080",
   "metadata": {},
   "outputs": [
    {
     "name": "stdout",
     "output_type": "stream",
     "text": [
      "epsg:4326\n"
     ]
    }
   ],
   "source": [
    "print(ookla_df.crs)"
   ]
  },
  {
   "cell_type": "code",
   "execution_count": 54,
   "id": "7d3650fd",
   "metadata": {},
   "outputs": [
    {
     "ename": "NameError",
     "evalue": "name 'geopandas' is not defined",
     "output_type": "error",
     "traceback": [
      "\u001b[0;31m---------------------------------------------------------------------------\u001b[0m",
      "\u001b[0;31mNameError\u001b[0m                                 Traceback (most recent call last)",
      "\u001b[0;32m<ipython-input-54-c1083cdaa3c9>\u001b[0m in \u001b[0;36m<module>\u001b[0;34m\u001b[0m\n\u001b[0;32m----> 1\u001b[0;31m gdf = geopandas.GeoDataFrame(\n\u001b[0m\u001b[1;32m      2\u001b[0m     df, geometry=geopandas.points_from_xy(df.Longitude, df.Latitude))\n",
      "\u001b[0;31mNameError\u001b[0m: name 'geopandas' is not defined"
     ]
    }
   ],
   "source": [
    "gdf = geopandas.GeoDataFrame(\n",
    "    df, geometry=geopandas.points_from_xy(df.Longitude, df.Latitude))"
   ]
  },
  {
   "cell_type": "code",
   "execution_count": null,
   "id": "c02d60dd",
   "metadata": {},
   "outputs": [],
   "source": [
    "def get_centroid(row):\n",
    "    try:\n",
    "        row.geometry"
   ]
  },
  {
   "cell_type": "code",
   "execution_count": 79,
   "id": "3afbc198",
   "metadata": {},
   "outputs": [
    {
     "data": {
      "text/plain": [
       "<Geographic 2D CRS: EPSG:4326>\n",
       "Name: WGS 84\n",
       "Axis Info [ellipsoidal]:\n",
       "- Lat[north]: Geodetic latitude (degree)\n",
       "- Lon[east]: Geodetic longitude (degree)\n",
       "Area of Use:\n",
       "- name: World\n",
       "- bounds: (-180.0, -90.0, 180.0, 90.0)\n",
       "Datum: World Geodetic System 1984\n",
       "- Ellipsoid: WGS 84\n",
       "- Prime Meridian: Greenwich"
      ]
     },
     "execution_count": 79,
     "metadata": {},
     "output_type": "execute_result"
    }
   ],
   "source": [
    "ookla_df.geometry.crs"
   ]
  },
  {
   "cell_type": "code",
   "execution_count": null,
   "id": "0043a059",
   "metadata": {},
   "outputs": [],
   "source": [
    "ookla_df.apply()"
   ]
  },
  {
   "cell_type": "code",
   "execution_count": 66,
   "id": "b5e3680a",
   "metadata": {},
   "outputs": [
    {
     "name": "stdout",
     "output_type": "stream",
     "text": [
      "Object `geometry` not found.\n"
     ]
    }
   ],
   "source": [
    "ookla_df.iloc[0].geometry."
   ]
  },
  {
   "cell_type": "code",
   "execution_count": 73,
   "id": "1e47e632",
   "metadata": {},
   "outputs": [
    {
     "name": "stderr",
     "output_type": "stream",
     "text": [
      "<ipython-input-73-46a3607d257e>:1: UserWarning: Geometry is in a geographic CRS. Results from 'centroid' are likely incorrect. Use 'GeoSeries.to_crs()' to re-project geometries to a projected CRS before this operation.\n",
      "\n",
      "  ookla_df.geometry.centroid.x\n"
     ]
    },
    {
     "data": {
      "text/plain": [
       "0        -114.128723\n",
       "1        -113.551941\n",
       "2        -114.282532\n",
       "3        -112.052307\n",
       "4        -113.288269\n",
       "             ...    \n",
       "122042   -112.244568\n",
       "122043   -112.079773\n",
       "122044   -113.843079\n",
       "122045   -112.359924\n",
       "122046   -112.337952\n",
       "Length: 122047, dtype: float64"
      ]
     },
     "execution_count": 73,
     "metadata": {},
     "output_type": "execute_result"
    }
   ],
   "source": [
    "ookla_df.geometry.centroid.x"
   ]
  },
  {
   "cell_type": "code",
   "execution_count": null,
   "id": "2f8c50d3",
   "metadata": {},
   "outputs": [],
   "source": [
    "ookla_df[\"centroid\"] = gpd.points_from_xy(ookla_df)"
   ]
  },
  {
   "cell_type": "code",
   "execution_count": 42,
   "id": "6ea3c721",
   "metadata": {},
   "outputs": [
    {
     "data": {
      "text/plain": [
       "(-114.12872314453101, 53.5288805865756)"
      ]
     },
     "execution_count": 42,
     "metadata": {},
     "output_type": "execute_result"
    }
   ],
   "source": [
    "ookla_df.iloc[0].geometry.centroid.x, ookla_df.iloc[0].geometry.centroid.y"
   ]
  },
  {
   "cell_type": "code",
   "execution_count": 28,
   "id": "c4f9fa90",
   "metadata": {},
   "outputs": [],
   "source": [
    "main_bound_df = pd.concat([rural_df, city_df])"
   ]
  },
  {
   "cell_type": "code",
   "execution_count": 29,
   "id": "74cf8c1f",
   "metadata": {},
   "outputs": [
    {
     "data": {
      "text/html": [
       "<div>\n",
       "<style scoped>\n",
       "    .dataframe tbody tr th:only-of-type {\n",
       "        vertical-align: middle;\n",
       "    }\n",
       "\n",
       "    .dataframe tbody tr th {\n",
       "        vertical-align: top;\n",
       "    }\n",
       "\n",
       "    .dataframe thead th {\n",
       "        text-align: right;\n",
       "    }\n",
       "</style>\n",
       "<table border=\"1\" class=\"dataframe\">\n",
       "  <thead>\n",
       "    <tr style=\"text-align: right;\">\n",
       "      <th></th>\n",
       "      <th>RURAL_ID</th>\n",
       "      <th>PID</th>\n",
       "      <th>GEONAME</th>\n",
       "      <th>GEOCODE</th>\n",
       "      <th>geometry</th>\n",
       "      <th>CITY_ID</th>\n",
       "    </tr>\n",
       "  </thead>\n",
       "  <tbody>\n",
       "    <tr>\n",
       "      <th>0</th>\n",
       "      <td>1.0</td>\n",
       "      <td>29860</td>\n",
       "      <td>MUNICIPAL DISTRICT OF ACADIA NO. 34</td>\n",
       "      <td>0001</td>\n",
       "      <td>POLYGON ((-110.05165 51.27041, -110.05136 51.2...</td>\n",
       "      <td>NaN</td>\n",
       "    </tr>\n",
       "    <tr>\n",
       "      <th>1</th>\n",
       "      <td>2.0</td>\n",
       "      <td>29863</td>\n",
       "      <td>ATHABASCA COUNTY</td>\n",
       "      <td>0012</td>\n",
       "      <td>POLYGON ((-113.68568 54.53633, -113.68569 54.5...</td>\n",
       "      <td>NaN</td>\n",
       "    </tr>\n",
       "    <tr>\n",
       "      <th>2</th>\n",
       "      <td>3.0</td>\n",
       "      <td>29864</td>\n",
       "      <td>COUNTY OF BARRHEAD NO. 11</td>\n",
       "      <td>0015</td>\n",
       "      <td>POLYGON ((-114.05164 53.92673, -114.05164 53.9...</td>\n",
       "      <td>NaN</td>\n",
       "    </tr>\n",
       "    <tr>\n",
       "      <th>3</th>\n",
       "      <td>4.0</td>\n",
       "      <td>29865</td>\n",
       "      <td>BEAVER COUNTY</td>\n",
       "      <td>0020</td>\n",
       "      <td>POLYGON ((-113.00114 53.29425, -113.00114 53.2...</td>\n",
       "      <td>NaN</td>\n",
       "    </tr>\n",
       "    <tr>\n",
       "      <th>4</th>\n",
       "      <td>5.0</td>\n",
       "      <td>29869</td>\n",
       "      <td>MUNICIPAL DISTRICT OF BONNYVILLE NO. 87</td>\n",
       "      <td>0036</td>\n",
       "      <td>POLYGON ((-110.35209 53.82412, -110.35207 53.8...</td>\n",
       "      <td>NaN</td>\n",
       "    </tr>\n",
       "  </tbody>\n",
       "</table>\n",
       "</div>"
      ],
      "text/plain": [
       "   RURAL_ID    PID                                  GEONAME GEOCODE  \\\n",
       "0       1.0  29860      MUNICIPAL DISTRICT OF ACADIA NO. 34    0001   \n",
       "1       2.0  29863                         ATHABASCA COUNTY    0012   \n",
       "2       3.0  29864                COUNTY OF BARRHEAD NO. 11    0015   \n",
       "3       4.0  29865                            BEAVER COUNTY    0020   \n",
       "4       5.0  29869  MUNICIPAL DISTRICT OF BONNYVILLE NO. 87    0036   \n",
       "\n",
       "                                            geometry  CITY_ID  \n",
       "0  POLYGON ((-110.05165 51.27041, -110.05136 51.2...      NaN  \n",
       "1  POLYGON ((-113.68568 54.53633, -113.68569 54.5...      NaN  \n",
       "2  POLYGON ((-114.05164 53.92673, -114.05164 53.9...      NaN  \n",
       "3  POLYGON ((-113.00114 53.29425, -113.00114 53.2...      NaN  \n",
       "4  POLYGON ((-110.35209 53.82412, -110.35207 53.8...      NaN  "
      ]
     },
     "execution_count": 29,
     "metadata": {},
     "output_type": "execute_result"
    }
   ],
   "source": [
    "main_bound_df.head()"
   ]
  },
  {
   "cell_type": "code",
   "execution_count": 31,
   "id": "21aeca47",
   "metadata": {},
   "outputs": [
    {
     "data": {
      "text/html": [
       "<div>\n",
       "<style scoped>\n",
       "    .dataframe tbody tr th:only-of-type {\n",
       "        vertical-align: middle;\n",
       "    }\n",
       "\n",
       "    .dataframe tbody tr th {\n",
       "        vertical-align: top;\n",
       "    }\n",
       "\n",
       "    .dataframe thead th {\n",
       "        text-align: right;\n",
       "    }\n",
       "</style>\n",
       "<table border=\"1\" class=\"dataframe\">\n",
       "  <thead>\n",
       "    <tr style=\"text-align: right;\">\n",
       "      <th></th>\n",
       "      <th>CITY_ID</th>\n",
       "      <th>PID</th>\n",
       "      <th>GEONAME</th>\n",
       "      <th>GEOCODE</th>\n",
       "      <th>geometry</th>\n",
       "    </tr>\n",
       "  </thead>\n",
       "  <tbody>\n",
       "    <tr>\n",
       "      <th>0</th>\n",
       "      <td>1</td>\n",
       "      <td>30130</td>\n",
       "      <td>CITY OF AIRDRIE</td>\n",
       "      <td>0003</td>\n",
       "      <td>POLYGON ((-114.06034 51.32935, -114.04884 51.3...</td>\n",
       "    </tr>\n",
       "    <tr>\n",
       "      <th>1</th>\n",
       "      <td>2</td>\n",
       "      <td>29919</td>\n",
       "      <td>CITY OF BEAUMONT</td>\n",
       "      <td>0019</td>\n",
       "      <td>POLYGON ((-113.46430 53.36665, -113.46430 53.3...</td>\n",
       "    </tr>\n",
       "    <tr>\n",
       "      <th>2</th>\n",
       "      <td>3</td>\n",
       "      <td>29928</td>\n",
       "      <td>CITY OF BROOKS</td>\n",
       "      <td>0043</td>\n",
       "      <td>POLYGON ((-111.86062 50.57026, -111.86044 50.5...</td>\n",
       "    </tr>\n",
       "    <tr>\n",
       "      <th>3</th>\n",
       "      <td>4</td>\n",
       "      <td>30131</td>\n",
       "      <td>CITY OF CALGARY</td>\n",
       "      <td>0046</td>\n",
       "      <td>POLYGON ((-113.86556 51.01609, -113.87704 51.0...</td>\n",
       "    </tr>\n",
       "    <tr>\n",
       "      <th>4</th>\n",
       "      <td>5</td>\n",
       "      <td>30132</td>\n",
       "      <td>CITY OF CAMROSE</td>\n",
       "      <td>0048</td>\n",
       "      <td>POLYGON ((-112.86397 53.03972, -112.86388 53.0...</td>\n",
       "    </tr>\n",
       "  </tbody>\n",
       "</table>\n",
       "</div>"
      ],
      "text/plain": [
       "   CITY_ID    PID           GEONAME GEOCODE  \\\n",
       "0        1  30130   CITY OF AIRDRIE    0003   \n",
       "1        2  29919  CITY OF BEAUMONT    0019   \n",
       "2        3  29928    CITY OF BROOKS    0043   \n",
       "3        4  30131   CITY OF CALGARY    0046   \n",
       "4        5  30132   CITY OF CAMROSE    0048   \n",
       "\n",
       "                                            geometry  \n",
       "0  POLYGON ((-114.06034 51.32935, -114.04884 51.3...  \n",
       "1  POLYGON ((-113.46430 53.36665, -113.46430 53.3...  \n",
       "2  POLYGON ((-111.86062 50.57026, -111.86044 50.5...  \n",
       "3  POLYGON ((-113.86556 51.01609, -113.87704 51.0...  \n",
       "4  POLYGON ((-112.86397 53.03972, -112.86388 53.0...  "
      ]
     },
     "execution_count": 31,
     "metadata": {},
     "output_type": "execute_result"
    }
   ],
   "source": [
    "city_df.head()"
   ]
  },
  {
   "cell_type": "code",
   "execution_count": 13,
   "id": "acdf39ed",
   "metadata": {},
   "outputs": [
    {
     "data": {
      "text/html": [
       "<div>\n",
       "<style scoped>\n",
       "    .dataframe tbody tr th:only-of-type {\n",
       "        vertical-align: middle;\n",
       "    }\n",
       "\n",
       "    .dataframe tbody tr th {\n",
       "        vertical-align: top;\n",
       "    }\n",
       "\n",
       "    .dataframe thead th {\n",
       "        text-align: right;\n",
       "    }\n",
       "</style>\n",
       "<table border=\"1\" class=\"dataframe\">\n",
       "  <thead>\n",
       "    <tr style=\"text-align: right;\">\n",
       "      <th></th>\n",
       "      <th>RURAL_ID</th>\n",
       "      <th>PID</th>\n",
       "      <th>GEONAME</th>\n",
       "      <th>GEOCODE</th>\n",
       "      <th>geometry</th>\n",
       "    </tr>\n",
       "  </thead>\n",
       "  <tbody>\n",
       "    <tr>\n",
       "      <th>0</th>\n",
       "      <td>1</td>\n",
       "      <td>29860</td>\n",
       "      <td>MUNICIPAL DISTRICT OF ACADIA NO. 34</td>\n",
       "      <td>0001</td>\n",
       "      <td>POLYGON ((-110.05165 51.27041, -110.05136 51.2...</td>\n",
       "    </tr>\n",
       "    <tr>\n",
       "      <th>1</th>\n",
       "      <td>2</td>\n",
       "      <td>29863</td>\n",
       "      <td>ATHABASCA COUNTY</td>\n",
       "      <td>0012</td>\n",
       "      <td>POLYGON ((-113.68568 54.53633, -113.68569 54.5...</td>\n",
       "    </tr>\n",
       "    <tr>\n",
       "      <th>2</th>\n",
       "      <td>3</td>\n",
       "      <td>29864</td>\n",
       "      <td>COUNTY OF BARRHEAD NO. 11</td>\n",
       "      <td>0015</td>\n",
       "      <td>POLYGON ((-114.05164 53.92673, -114.05164 53.9...</td>\n",
       "    </tr>\n",
       "    <tr>\n",
       "      <th>3</th>\n",
       "      <td>4</td>\n",
       "      <td>29865</td>\n",
       "      <td>BEAVER COUNTY</td>\n",
       "      <td>0020</td>\n",
       "      <td>POLYGON ((-113.00114 53.29425, -113.00114 53.2...</td>\n",
       "    </tr>\n",
       "    <tr>\n",
       "      <th>4</th>\n",
       "      <td>5</td>\n",
       "      <td>29869</td>\n",
       "      <td>MUNICIPAL DISTRICT OF BONNYVILLE NO. 87</td>\n",
       "      <td>0036</td>\n",
       "      <td>POLYGON ((-110.35209 53.82412, -110.35207 53.8...</td>\n",
       "    </tr>\n",
       "  </tbody>\n",
       "</table>\n",
       "</div>"
      ],
      "text/plain": [
       "   RURAL_ID    PID                                  GEONAME GEOCODE  \\\n",
       "0         1  29860      MUNICIPAL DISTRICT OF ACADIA NO. 34    0001   \n",
       "1         2  29863                         ATHABASCA COUNTY    0012   \n",
       "2         3  29864                COUNTY OF BARRHEAD NO. 11    0015   \n",
       "3         4  29865                            BEAVER COUNTY    0020   \n",
       "4         5  29869  MUNICIPAL DISTRICT OF BONNYVILLE NO. 87    0036   \n",
       "\n",
       "                                            geometry  \n",
       "0  POLYGON ((-110.05165 51.27041, -110.05136 51.2...  \n",
       "1  POLYGON ((-113.68568 54.53633, -113.68569 54.5...  \n",
       "2  POLYGON ((-114.05164 53.92673, -114.05164 53.9...  \n",
       "3  POLYGON ((-113.00114 53.29425, -113.00114 53.2...  \n",
       "4  POLYGON ((-110.35209 53.82412, -110.35207 53.8...  "
      ]
     },
     "execution_count": 13,
     "metadata": {},
     "output_type": "execute_result"
    }
   ],
   "source": [
    "rural_df.head()"
   ]
  },
  {
   "cell_type": "markdown",
   "id": "a5973c44",
   "metadata": {},
   "source": [
    "### Intersections"
   ]
  },
  {
   "cell_type": "code",
   "execution_count": 9,
   "id": "67990fed",
   "metadata": {},
   "outputs": [],
   "source": [
    "size=(24, 30)\n",
    "lwidth=0.5`"
   ]
  },
  {
   "cell_type": "code",
   "execution_count": 36,
   "id": "bbf55592",
   "metadata": {},
   "outputs": [
    {
     "data": {
      "image/png": "[encoded data removed]",
      "text/plain": [
       "<Figure size 1728x2160 with 1 Axes>"
      ]
     },
     "metadata": {
      "needs_background": "light"
     },
     "output_type": "display_data"
    }
   ],
   "source": [
    "# sliced out rural alberta\n",
    "\n",
    "ax = rural_df.plot(figsize=size, linewidth=lwidth, color=\"lightblue\", edgecolor=\"black\")\n",
    "#city_df.plot(figsize=size, linewidth=lwidth, color=\"blue\", edgecolor=\"black\", ax=ax)"
   ]
  },
  {
   "cell_type": "markdown",
   "id": "e8c27dcf",
   "metadata": {},
   "source": [
    "### Counting Tests\n",
    "- How to count up the markers that fall within a certain polygon\n",
    "- Just try counting up the markers for rural_df first"
   ]
  },
  {
   "cell_type": "code",
   "execution_count": null,
   "id": "42ce4023",
   "metadata": {},
   "outputs": [],
   "source": []
  }
 ],
 "metadata": {
  "kernelspec": {
   "display_name": "basic-data-env",
   "language": "python",
   "name": "basic-data-env"
  },
  "language_info": {
   "codemirror_mode": {
    "name": "ipython",
    "version": 3
   },
   "file_extension": ".py",
   "mimetype": "text/x-python",
   "name": "python",
   "nbconvert_exporter": "python",
   "pygments_lexer": "ipython3",
   "version": "3.8.2"
  }
 },
 "nbformat": 4,
 "nbformat_minor": 5
}
