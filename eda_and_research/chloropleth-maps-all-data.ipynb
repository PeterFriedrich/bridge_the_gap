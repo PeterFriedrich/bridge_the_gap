{
 "cells": [
  {
   "cell_type": "markdown",
   "id": "4c8b6db3",
   "metadata": {},
   "source": [
    "### Chloropleth maps\n",
    "\n",
    "#### TODO:\n",
    "- spatial join some stuff together? Once all set up as markers\n",
    "- convert the ookla polygons to markers based centroid\n",
    "- convert the cira data to shapely? format\n",
    "- count up the number of test that fall within each boundary\n",
    "\n",
    "#### Questions\n",
    "- how to handle area intersections"
   ]
  },
  {
   "cell_type": "code",
   "execution_count": 2,
   "id": "4ba8361a",
   "metadata": {},
   "outputs": [
    {
     "name": "stdout",
     "output_type": "stream",
     "text": [
      "\u001b[0m\u001b[01;34mmlab\u001b[0m/  \u001b[01;34mMunicipal_Boundaries_SHP_Geographic\u001b[0m/  \u001b[01;34mookla\u001b[0m/  \u001b[01;34mstats_can\u001b[0m/\r\n"
     ]
    }
   ],
   "source": [
    "ls ../data"
   ]
  },
  {
   "cell_type": "code",
   "execution_count": 3,
   "id": "22594607",
   "metadata": {},
   "outputs": [],
   "source": [
    "import geopandas as gpd\n",
    "import pandas as pd\n",
    "from pathlib import Path"
   ]
  },
  {
   "cell_type": "markdown",
   "id": "df0ee19c",
   "metadata": {},
   "source": [
    "### Boundta"
   ]
  },
  {
   "cell_type": "code",
   "execution_count": 4,
   "id": "9705ae85",
   "metadata": {},
   "outputs": [],
   "source": [
    "file_path = Path(\"../data/Municipal_Boundaries_SHP_Geographic/\")"
   ]
  },
  {
   "cell_type": "code",
   "execution_count": 5,
   "id": "7f6f71f5",
   "metadata": {},
   "outputs": [],
   "source": [
    "city_df = gpd.read_file(file_path/\"CITY.shp\")\n",
    "hamlet_df = gpd.read_file(file_path/\"HAMLETPT.shp\")\n",
    "indian_df = gpd.read_file(file_path/\"INDIAN.shp\")\n",
    "octext_df = gpd.read_file(file_path/\"OCTEXT.shp\")\n",
    "\n",
    "rural_df = gpd.read_file(file_path/\"RURAL.shp\")\n",
    "svillage_df = gpd.read_file(file_path/\"SVILLAGE.shp\")\n",
    "town_df = gpd.read_file(file_path/\"TOWN.shp\")\n",
    "urbserv_df = gpd.read_file(file_path/\"urbserv.shp\")\n",
    "village_df = gpd.read_file(file_path/\"VILLAGE.shp\")"
   ]
  },
  {
   "cell_type": "code",
   "execution_count": 6,
   "id": "7ceffac0",
   "metadata": {},
   "outputs": [
    {
     "name": "stdout",
     "output_type": "stream",
     "text": [
      "epsg:4269 epsg:4269\n"
     ]
    }
   ],
   "source": [
    "print(city_df.crs, rural_df.crs)"
   ]
  },
  {
   "cell_type": "code",
   "execution_count": 7,
   "id": "2839ac63",
   "metadata": {},
   "outputs": [],
   "source": [
    "ookla_df = gpd.read_file(\"../data/ookla/AB_ookla_data_2020.shp\")"
   ]
  },
  {
   "cell_type": "code",
   "execution_count": 8,
   "id": "657aece7",
   "metadata": {},
   "outputs": [
    {
     "ename": "FileNotFoundError",
     "evalue": "[Errno 2] No such file or directory: '../data/cira-internet-performance.csv'",
     "output_type": "error",
     "traceback": [
      "\u001b[0;31m---------------------------------------------------------------------------\u001b[0m",
      "\u001b[0;31mFileNotFoundError\u001b[0m                         Traceback (most recent call last)",
      "\u001b[0;32m<ipython-input-8-41d30a93df16>\u001b[0m in \u001b[0;36m<module>\u001b[0;34m\u001b[0m\n\u001b[1;32m      1\u001b[0m \u001b[0;31m# load in the cira df as gpd, with crs?\u001b[0m\u001b[0;34m\u001b[0m\u001b[0;34m\u001b[0m\u001b[0;34m\u001b[0m\u001b[0m\n\u001b[0;32m----> 2\u001b[0;31m \u001b[0mcira\u001b[0m \u001b[0;34m=\u001b[0m \u001b[0mpd\u001b[0m\u001b[0;34m.\u001b[0m\u001b[0mread_csv\u001b[0m\u001b[0;34m(\u001b[0m\u001b[0;34m\"../data/cira-internet-performance.csv\"\u001b[0m\u001b[0;34m)\u001b[0m\u001b[0;34m\u001b[0m\u001b[0;34m\u001b[0m\u001b[0m\n\u001b[0m",
      "\u001b[0;32m~/anaconda3/envs/basic-data/lib/python3.8/site-packages/pandas/io/parsers.py\u001b[0m in \u001b[0;36mread_csv\u001b[0;34m(filepath_or_buffer, sep, delimiter, header, names, index_col, usecols, squeeze, prefix, mangle_dupe_cols, dtype, engine, converters, true_values, false_values, skipinitialspace, skiprows, skipfooter, nrows, na_values, keep_default_na, na_filter, verbose, skip_blank_lines, parse_dates, infer_datetime_format, keep_date_col, date_parser, dayfirst, cache_dates, iterator, chunksize, compression, thousands, decimal, lineterminator, quotechar, quoting, doublequote, escapechar, comment, encoding, dialect, error_bad_lines, warn_bad_lines, delim_whitespace, low_memory, memory_map, float_precision, storage_options)\u001b[0m\n\u001b[1;32m    608\u001b[0m     \u001b[0mkwds\u001b[0m\u001b[0;34m.\u001b[0m\u001b[0mupdate\u001b[0m\u001b[0;34m(\u001b[0m\u001b[0mkwds_defaults\u001b[0m\u001b[0;34m)\u001b[0m\u001b[0;34m\u001b[0m\u001b[0;34m\u001b[0m\u001b[0m\n\u001b[1;32m    609\u001b[0m \u001b[0;34m\u001b[0m\u001b[0m\n\u001b[0;32m--> 610\u001b[0;31m     \u001b[0;32mreturn\u001b[0m \u001b[0m_read\u001b[0m\u001b[0;34m(\u001b[0m\u001b[0mfilepath_or_buffer\u001b[0m\u001b[0;34m,\u001b[0m \u001b[0mkwds\u001b[0m\u001b[0;34m)\u001b[0m\u001b[0;34m\u001b[0m\u001b[0;34m\u001b[0m\u001b[0m\n\u001b[0m\u001b[1;32m    611\u001b[0m \u001b[0;34m\u001b[0m\u001b[0m\n\u001b[1;32m    612\u001b[0m \u001b[0;34m\u001b[0m\u001b[0m\n",
      "\u001b[0;32m~/anaconda3/envs/basic-data/lib/python3.8/site-packages/pandas/io/parsers.py\u001b[0m in \u001b[0;36m_read\u001b[0;34m(filepath_or_buffer, kwds)\u001b[0m\n\u001b[1;32m    460\u001b[0m \u001b[0;34m\u001b[0m\u001b[0m\n\u001b[1;32m    461\u001b[0m     \u001b[0;31m# Create the parser.\u001b[0m\u001b[0;34m\u001b[0m\u001b[0;34m\u001b[0m\u001b[0;34m\u001b[0m\u001b[0m\n\u001b[0;32m--> 462\u001b[0;31m     \u001b[0mparser\u001b[0m \u001b[0;34m=\u001b[0m \u001b[0mTextFileReader\u001b[0m\u001b[0;34m(\u001b[0m\u001b[0mfilepath_or_buffer\u001b[0m\u001b[0;34m,\u001b[0m \u001b[0;34m**\u001b[0m\u001b[0mkwds\u001b[0m\u001b[0;34m)\u001b[0m\u001b[0;34m\u001b[0m\u001b[0;34m\u001b[0m\u001b[0m\n\u001b[0m\u001b[1;32m    463\u001b[0m \u001b[0;34m\u001b[0m\u001b[0m\n\u001b[1;32m    464\u001b[0m     \u001b[0;32mif\u001b[0m \u001b[0mchunksize\u001b[0m \u001b[0;32mor\u001b[0m \u001b[0miterator\u001b[0m\u001b[0;34m:\u001b[0m\u001b[0;34m\u001b[0m\u001b[0;34m\u001b[0m\u001b[0m\n",
      "\u001b[0;32m~/anaconda3/envs/basic-data/lib/python3.8/site-packages/pandas/io/parsers.py\u001b[0m in \u001b[0;36m__init__\u001b[0;34m(self, f, engine, **kwds)\u001b[0m\n\u001b[1;32m    817\u001b[0m             \u001b[0mself\u001b[0m\u001b[0;34m.\u001b[0m\u001b[0moptions\u001b[0m\u001b[0;34m[\u001b[0m\u001b[0;34m\"has_index_names\"\u001b[0m\u001b[0;34m]\u001b[0m \u001b[0;34m=\u001b[0m \u001b[0mkwds\u001b[0m\u001b[0;34m[\u001b[0m\u001b[0;34m\"has_index_names\"\u001b[0m\u001b[0;34m]\u001b[0m\u001b[0;34m\u001b[0m\u001b[0;34m\u001b[0m\u001b[0m\n\u001b[1;32m    818\u001b[0m \u001b[0;34m\u001b[0m\u001b[0m\n\u001b[0;32m--> 819\u001b[0;31m         \u001b[0mself\u001b[0m\u001b[0;34m.\u001b[0m\u001b[0m_engine\u001b[0m \u001b[0;34m=\u001b[0m \u001b[0mself\u001b[0m\u001b[0;34m.\u001b[0m\u001b[0m_make_engine\u001b[0m\u001b[0;34m(\u001b[0m\u001b[0mself\u001b[0m\u001b[0;34m.\u001b[0m\u001b[0mengine\u001b[0m\u001b[0;34m)\u001b[0m\u001b[0;34m\u001b[0m\u001b[0;34m\u001b[0m\u001b[0m\n\u001b[0m\u001b[1;32m    820\u001b[0m \u001b[0;34m\u001b[0m\u001b[0m\n\u001b[1;32m    821\u001b[0m     \u001b[0;32mdef\u001b[0m \u001b[0mclose\u001b[0m\u001b[0;34m(\u001b[0m\u001b[0mself\u001b[0m\u001b[0;34m)\u001b[0m\u001b[0;34m:\u001b[0m\u001b[0;34m\u001b[0m\u001b[0;34m\u001b[0m\u001b[0m\n",
      "\u001b[0;32m~/anaconda3/envs/basic-data/lib/python3.8/site-packages/pandas/io/parsers.py\u001b[0m in \u001b[0;36m_make_engine\u001b[0;34m(self, engine)\u001b[0m\n\u001b[1;32m   1048\u001b[0m             )\n\u001b[1;32m   1049\u001b[0m         \u001b[0;31m# error: Too many arguments for \"ParserBase\"\u001b[0m\u001b[0;34m\u001b[0m\u001b[0;34m\u001b[0m\u001b[0;34m\u001b[0m\u001b[0m\n\u001b[0;32m-> 1050\u001b[0;31m         \u001b[0;32mreturn\u001b[0m \u001b[0mmapping\u001b[0m\u001b[0;34m[\u001b[0m\u001b[0mengine\u001b[0m\u001b[0;34m]\u001b[0m\u001b[0;34m(\u001b[0m\u001b[0mself\u001b[0m\u001b[0;34m.\u001b[0m\u001b[0mf\u001b[0m\u001b[0;34m,\u001b[0m \u001b[0;34m**\u001b[0m\u001b[0mself\u001b[0m\u001b[0;34m.\u001b[0m\u001b[0moptions\u001b[0m\u001b[0;34m)\u001b[0m  \u001b[0;31m# type: ignore[call-arg]\u001b[0m\u001b[0;34m\u001b[0m\u001b[0;34m\u001b[0m\u001b[0m\n\u001b[0m\u001b[1;32m   1051\u001b[0m \u001b[0;34m\u001b[0m\u001b[0m\n\u001b[1;32m   1052\u001b[0m     \u001b[0;32mdef\u001b[0m \u001b[0m_failover_to_python\u001b[0m\u001b[0;34m(\u001b[0m\u001b[0mself\u001b[0m\u001b[0;34m)\u001b[0m\u001b[0;34m:\u001b[0m\u001b[0;34m\u001b[0m\u001b[0;34m\u001b[0m\u001b[0m\n",
      "\u001b[0;32m~/anaconda3/envs/basic-data/lib/python3.8/site-packages/pandas/io/parsers.py\u001b[0m in \u001b[0;36m__init__\u001b[0;34m(self, src, **kwds)\u001b[0m\n\u001b[1;32m   1865\u001b[0m \u001b[0;34m\u001b[0m\u001b[0m\n\u001b[1;32m   1866\u001b[0m         \u001b[0;31m# open handles\u001b[0m\u001b[0;34m\u001b[0m\u001b[0;34m\u001b[0m\u001b[0;34m\u001b[0m\u001b[0m\n\u001b[0;32m-> 1867\u001b[0;31m         \u001b[0mself\u001b[0m\u001b[0;34m.\u001b[0m\u001b[0m_open_handles\u001b[0m\u001b[0;34m(\u001b[0m\u001b[0msrc\u001b[0m\u001b[0;34m,\u001b[0m \u001b[0mkwds\u001b[0m\u001b[0;34m)\u001b[0m\u001b[0;34m\u001b[0m\u001b[0;34m\u001b[0m\u001b[0m\n\u001b[0m\u001b[1;32m   1868\u001b[0m         \u001b[0;32massert\u001b[0m \u001b[0mself\u001b[0m\u001b[0;34m.\u001b[0m\u001b[0mhandles\u001b[0m \u001b[0;32mis\u001b[0m \u001b[0;32mnot\u001b[0m \u001b[0;32mNone\u001b[0m\u001b[0;34m\u001b[0m\u001b[0;34m\u001b[0m\u001b[0m\n\u001b[1;32m   1869\u001b[0m         \u001b[0;32mfor\u001b[0m \u001b[0mkey\u001b[0m \u001b[0;32min\u001b[0m \u001b[0;34m(\u001b[0m\u001b[0;34m\"storage_options\"\u001b[0m\u001b[0;34m,\u001b[0m \u001b[0;34m\"encoding\"\u001b[0m\u001b[0;34m,\u001b[0m \u001b[0;34m\"memory_map\"\u001b[0m\u001b[0;34m,\u001b[0m \u001b[0;34m\"compression\"\u001b[0m\u001b[0;34m)\u001b[0m\u001b[0;34m:\u001b[0m\u001b[0;34m\u001b[0m\u001b[0;34m\u001b[0m\u001b[0m\n",
      "\u001b[0;32m~/anaconda3/envs/basic-data/lib/python3.8/site-packages/pandas/io/parsers.py\u001b[0m in \u001b[0;36m_open_handles\u001b[0;34m(self, src, kwds)\u001b[0m\n\u001b[1;32m   1360\u001b[0m         \u001b[0mLet\u001b[0m \u001b[0mthe\u001b[0m \u001b[0mreaders\u001b[0m \u001b[0mopen\u001b[0m \u001b[0mIOHanldes\u001b[0m \u001b[0mafter\u001b[0m \u001b[0mthey\u001b[0m \u001b[0mare\u001b[0m \u001b[0mdone\u001b[0m \u001b[0;32mwith\u001b[0m \u001b[0mtheir\u001b[0m \u001b[0mpotential\u001b[0m \u001b[0mraises\u001b[0m\u001b[0;34m.\u001b[0m\u001b[0;34m\u001b[0m\u001b[0;34m\u001b[0m\u001b[0m\n\u001b[1;32m   1361\u001b[0m         \"\"\"\n\u001b[0;32m-> 1362\u001b[0;31m         self.handles = get_handle(\n\u001b[0m\u001b[1;32m   1363\u001b[0m             \u001b[0msrc\u001b[0m\u001b[0;34m,\u001b[0m\u001b[0;34m\u001b[0m\u001b[0;34m\u001b[0m\u001b[0m\n\u001b[1;32m   1364\u001b[0m             \u001b[0;34m\"r\"\u001b[0m\u001b[0;34m,\u001b[0m\u001b[0;34m\u001b[0m\u001b[0;34m\u001b[0m\u001b[0m\n",
      "\u001b[0;32m~/anaconda3/envs/basic-data/lib/python3.8/site-packages/pandas/io/common.py\u001b[0m in \u001b[0;36mget_handle\u001b[0;34m(path_or_buf, mode, encoding, compression, memory_map, is_text, errors, storage_options)\u001b[0m\n\u001b[1;32m    640\u001b[0m                 \u001b[0merrors\u001b[0m \u001b[0;34m=\u001b[0m \u001b[0;34m\"replace\"\u001b[0m\u001b[0;34m\u001b[0m\u001b[0;34m\u001b[0m\u001b[0m\n\u001b[1;32m    641\u001b[0m             \u001b[0;31m# Encoding\u001b[0m\u001b[0;34m\u001b[0m\u001b[0;34m\u001b[0m\u001b[0;34m\u001b[0m\u001b[0m\n\u001b[0;32m--> 642\u001b[0;31m             handle = open(\n\u001b[0m\u001b[1;32m    643\u001b[0m                 \u001b[0mhandle\u001b[0m\u001b[0;34m,\u001b[0m\u001b[0;34m\u001b[0m\u001b[0;34m\u001b[0m\u001b[0m\n\u001b[1;32m    644\u001b[0m                 \u001b[0mioargs\u001b[0m\u001b[0;34m.\u001b[0m\u001b[0mmode\u001b[0m\u001b[0;34m,\u001b[0m\u001b[0;34m\u001b[0m\u001b[0;34m\u001b[0m\u001b[0m\n",
      "\u001b[0;31mFileNotFoundError\u001b[0m: [Errno 2] No such file or directory: '../data/cira-internet-performance.csv'"
     ]
    }
   ],
   "source": [
    "# load in the cira df as gpd, with crs?\n",
    "cira = pd.read_csv(\"../data/cira-internet-performance.csv\")"
   ]
  },
  {
   "cell_type": "code",
   "execution_count": null,
   "id": "1d62ad1e",
   "metadata": {},
   "outputs": [],
   "source": [
    "cira.head()"
   ]
  },
  {
   "cell_type": "code",
   "execution_count": null,
   "id": "a375de36",
   "metadata": {},
   "outputs": [],
   "source": [
    "cira_df = gpd.GeoDataFrame(cira, geometry=gpd.points_from_xy(cira[\"GEO LONGITUDE\"], cira[\"GEO LATITUDE\"]))\n",
    "cira_df.drop([\"GEO LONGITUDE\", \"GEO LATITUDE\"], axis=1, inplace=True)\n",
    "cira_df.{'init': 'epsg:4326'}"
   ]
  },
  {
   "cell_type": "code",
   "execution_count": null,
   "id": "25db16aa",
   "metadata": {},
   "outputs": [],
   "source": [
    "print(cira_df.crs)"
   ]
  },
  {
   "cell_type": "code",
   "execution_count": null,
   "id": "21a089bc",
   "metadata": {},
   "outputs": [],
   "source": [
    "cira_df.head(3)"
   ]
  },
  {
   "cell_type": "markdown",
   "id": "d6d5e56b",
   "metadata": {},
   "source": [
    "#### Get the Centroid of Ookla polygons\n",
    "- apparently i need to project to a crs where the centroid will be in accurate? Centroid calculation seems to rely on distance, so a projection that preserves distance **(Azimuthal Equidistant projection)?**\n",
    "1. Change project?\n",
    "2. Do calculation?"
   ]
  },
  {
   "cell_type": "code",
   "execution_count": null,
   "id": "345e3f1c",
   "metadata": {},
   "outputs": [],
   "source": [
    "ookla_df.head()"
   ]
  },
  {
   "cell_type": "code",
   "execution_count": null,
   "id": "4cca7196",
   "metadata": {},
   "outputs": [],
   "source": [
    "print(ookla_df.crs)"
   ]
  },
  {
   "cell_type": "code",
   "execution_count": null,
   "id": "144ab07b",
   "metadata": {},
   "outputs": [],
   "source": [
    "gdf = geopandas.GeoDataFrame(\n",
    "    df, geometry=geopandas.points_from_xy(df.Longitude, df.Latitude))"
   ]
  },
  {
   "cell_type": "code",
   "execution_count": null,
   "id": "2b4d243f",
   "metadata": {},
   "outputs": [],
   "source": [
    "def get_centroid(row):\n",
    "    try:\n",
    "        row.geometry"
   ]
  },
  {
   "cell_type": "code",
   "execution_count": null,
   "id": "7fd66a51",
   "metadata": {},
   "outputs": [],
   "source": [
    "ookla_df.geometry.crs"
   ]
  },
  {
   "cell_type": "code",
   "execution_count": null,
   "id": "4745dcbc",
   "metadata": {},
   "outputs": [],
   "source": [
    "ookla_df.apply()"
   ]
  },
  {
   "cell_type": "code",
   "execution_count": null,
   "id": "ac983289",
   "metadata": {},
   "outputs": [],
   "source": [
    "ookla_df.iloc[0].geometry."
   ]
  },
  {
   "cell_type": "code",
   "execution_count": null,
   "id": "61d500d2",
   "metadata": {},
   "outputs": [],
   "source": [
    "ookla_df.geometry.centroid.x"
   ]
  },
  {
   "cell_type": "code",
   "execution_count": null,
   "id": "669da7dc",
   "metadata": {},
   "outputs": [],
   "source": [
    "ookla_df[\"centroid\"] = gpd.points_from_xy(ookla_df)"
   ]
  },
  {
   "cell_type": "code",
   "execution_count": null,
   "id": "b8d1f1f2",
   "metadata": {},
   "outputs": [],
   "source": [
    "ookla_df.iloc[0].geometry.centroid.x, ookla_df.iloc[0].geometry.centroid.y"
   ]
  },
  {
   "cell_type": "code",
   "execution_count": null,
   "id": "f820277b",
   "metadata": {},
   "outputs": [],
   "source": [
    "main_bound_df = pd.concat([rural_df, city_df])"
   ]
  },
  {
   "cell_type": "code",
   "execution_count": null,
   "id": "ef8752fc",
   "metadata": {},
   "outputs": [],
   "source": [
    "main_bound_df.head()"
   ]
  },
  {
   "cell_type": "code",
   "execution_count": null,
   "id": "d8c540d8",
   "metadata": {},
   "outputs": [],
   "source": [
    "city_df.head()"
   ]
  },
  {
   "cell_type": "code",
   "execution_count": null,
   "id": "a7b0ce8d",
   "metadata": {},
   "outputs": [],
   "source": [
    "rural_df.head()"
   ]
  },
  {
   "cell_type": "markdown",
   "id": "955a7649",
   "metadata": {},
   "source": [
    "### Intersections"
   ]
  },
  {
   "cell_type": "code",
   "execution_count": null,
   "id": "7261f85e",
   "metadata": {},
   "outputs": [],
   "source": [
    "size=(24, 30)\n",
    "lwidth=0.5"
   ]
  },
  {
   "cell_type": "code",
   "execution_count": null,
   "id": "cbdad88a",
   "metadata": {},
   "outputs": [],
   "source": [
    "# sliced out rural alberta\n",
    "\n",
    "ax = rural_df.plot(figsize=size, linewidth=lwidth, color=\"lightblue\", edgecolor=\"black\")\n",
    "#city_df.plot(figsize=size, linewidth=lwidth, color=\"blue\", edgecolor=\"black\", ax=ax)"
   ]
  },
  {
   "cell_type": "markdown",
   "id": "1a7a6775",
   "metadata": {},
   "source": [
    "### Counting Tests\n",
    "- How to count up the markers that fall within a certain polygon\n",
    "- Just try counting up the markers for rural_df first"
   ]
  },
  {
   "cell_type": "code",
   "execution_count": null,
   "id": "e08f568a",
   "metadata": {},
   "outputs": [],
   "source": []
  }
 ],
 "metadata": {
  "kernelspec": {
   "display_name": "basic-data-env",
   "language": "python",
   "name": "basic-data-env"
  },
  "language_info": {
   "codemirror_mode": {
    "name": "ipython",
    "version": 3
   },
   "file_extension": ".py",
   "mimetype": "text/x-python",
   "name": "python",
   "nbconvert_exporter": "python",
   "pygments_lexer": "ipython3",
   "version": "3.8.2"
  }
 },
 "nbformat": 4,
 "nbformat_minor": 5
}
