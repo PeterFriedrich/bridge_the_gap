{
 "cells": [
  {
   "cell_type": "markdown",
   "id": "4c8b6db3",
   "metadata": {},
   "source": [
    "### Chloropleth maps\n",
    "\n",
    "#### TODO:\n",
    "- spatial join some stuff together? Once all set up as markers\n",
    "- convert the ookla polygons to markers based centroid\n",
    "- convert the cira data to shapely? format\n",
    "- count up the number of test that fall within each boundary\n",
    "\n",
    "#### Questions\n",
    "- how to handle area intersections"
   ]
  },
  {
   "cell_type": "code",
   "execution_count": 1,
   "id": "4ba8361a",
   "metadata": {},
   "outputs": [
    {
     "name": "stdout",
     "output_type": "stream",
     "text": [
      "\u001b[0m\u001b[01;34mmlab\u001b[0m/  \u001b[01;34mMunicipal_Boundaries_SHP_Geographic\u001b[0m/  \u001b[01;34mookla\u001b[0m/  \u001b[01;34mstats_can\u001b[0m/\r\n"
     ]
    }
   ],
   "source": [
    "ls ../data"
   ]
  },
  {
   "cell_type": "code",
   "execution_count": 2,
   "id": "22594607",
   "metadata": {},
   "outputs": [],
   "source": [
    "import geopandas as gpd\n",
    "import pandas as pd\n",
    "from pathlib import Path"
   ]
  },
  {
   "cell_type": "markdown",
   "id": "df0ee19c",
   "metadata": {},
   "source": [
    "### Boundary Data"
   ]
  },
  {
   "cell_type": "code",
   "execution_count": 3,
   "id": "9705ae85",
   "metadata": {},
   "outputs": [],
   "source": [
    "file_path = Path(\"../data/Municipal_Boundaries_SHP_Geographic/\")"
   ]
  },
  {
   "cell_type": "code",
   "execution_count": 4,
   "id": "7f6f71f5",
   "metadata": {},
   "outputs": [],
   "source": [
    "city_df = gpd.read_file(file_path/\"CITY.shp\")\n",
    "hamlet_df = gpd.read_file(file_path/\"HAMLETPT.shp\")\n",
    "indian_df = gpd.read_file(file_path/\"INDIAN.shp\")\n",
    "octext_df = gpd.read_file(file_path/\"OCTEXT.shp\")\n",
    "\n",
    "rural_df = gpd.read_file(file_path/\"RURAL.shp\")\n",
    "svillage_df = gpd.read_file(file_path/\"SVILLAGE.shp\")\n",
    "town_df = gpd.read_file(file_path/\"TOWN.shp\")\n",
    "urbserv_df = gpd.read_file(file_path/\"urbserv.shp\")\n",
    "village_df = gpd.read_file(file_path/\"VILLAGE.shp\")"
   ]
  },
  {
   "cell_type": "code",
   "execution_count": 5,
   "id": "14dd64d4",
   "metadata": {},
   "outputs": [
    {
     "name": "stdout",
     "output_type": "stream",
     "text": [
      "epsg:4269 epsg:4269\n"
     ]
    }
   ],
   "source": [
    "print(city_df.crs, rural_df.crs)"
   ]
  },
  {
   "cell_type": "markdown",
   "id": "2573f931",
   "metadata": {},
   "source": [
    "### Internet Data"
   ]
  },
  {
   "cell_type": "code",
   "execution_count": 8,
   "id": "2839ac63",
   "metadata": {},
   "outputs": [],
   "source": [
    "ookla_gdf = gpd.read_file(\"../data/ookla/AB_ookla_data_2020.shp\")"
   ]
  },
  {
   "cell_type": "code",
   "execution_count": 9,
   "id": "d7708d92",
   "metadata": {},
   "outputs": [
    {
     "data": {
      "text/html": [
       "<div>\n",
       "<style scoped>\n",
       "    .dataframe tbody tr th:only-of-type {\n",
       "        vertical-align: middle;\n",
       "    }\n",
       "\n",
       "    .dataframe tbody tr th {\n",
       "        vertical-align: top;\n",
       "    }\n",
       "\n",
       "    .dataframe thead th {\n",
       "        text-align: right;\n",
       "    }\n",
       "</style>\n",
       "<table border=\"1\" class=\"dataframe\">\n",
       "  <thead>\n",
       "    <tr style=\"text-align: right;\">\n",
       "      <th></th>\n",
       "      <th>quadkey</th>\n",
       "      <th>avg_d_kbps</th>\n",
       "      <th>avg_u_kbps</th>\n",
       "      <th>avg_lat_ms</th>\n",
       "      <th>tests</th>\n",
       "      <th>devices</th>\n",
       "      <th>quarter</th>\n",
       "      <th>conn_type</th>\n",
       "      <th>geometry</th>\n",
       "    </tr>\n",
       "  </thead>\n",
       "  <tbody>\n",
       "    <tr>\n",
       "      <th>0</th>\n",
       "      <td>0212113033010133</td>\n",
       "      <td>807</td>\n",
       "      <td>273</td>\n",
       "      <td>84</td>\n",
       "      <td>1</td>\n",
       "      <td>1</td>\n",
       "      <td>Q1</td>\n",
       "      <td>fixed</td>\n",
       "      <td>POLYGON ((-114.13147 53.53051, -114.12598 53.5...</td>\n",
       "    </tr>\n",
       "    <tr>\n",
       "      <th>1</th>\n",
       "      <td>0212113123020220</td>\n",
       "      <td>82062</td>\n",
       "      <td>11294</td>\n",
       "      <td>19</td>\n",
       "      <td>34</td>\n",
       "      <td>4</td>\n",
       "      <td>Q1</td>\n",
       "      <td>fixed</td>\n",
       "      <td>POLYGON ((-113.55469 53.46843, -113.54919 53.4...</td>\n",
       "    </tr>\n",
       "    <tr>\n",
       "      <th>2</th>\n",
       "      <td>0212131212333013</td>\n",
       "      <td>9741</td>\n",
       "      <td>1382</td>\n",
       "      <td>24</td>\n",
       "      <td>7</td>\n",
       "      <td>2</td>\n",
       "      <td>Q1</td>\n",
       "      <td>fixed</td>\n",
       "      <td>POLYGON ((-114.28528 51.20344, -114.27979 51.2...</td>\n",
       "    </tr>\n",
       "    <tr>\n",
       "      <th>3</th>\n",
       "      <td>0213002023012223</td>\n",
       "      <td>81989</td>\n",
       "      <td>39432</td>\n",
       "      <td>13</td>\n",
       "      <td>56</td>\n",
       "      <td>7</td>\n",
       "      <td>Q1</td>\n",
       "      <td>fixed</td>\n",
       "      <td>POLYGON ((-112.05505 53.49131, -112.04956 53.4...</td>\n",
       "    </tr>\n",
       "    <tr>\n",
       "      <th>4</th>\n",
       "      <td>0212113301112020</td>\n",
       "      <td>4405</td>\n",
       "      <td>2300</td>\n",
       "      <td>37</td>\n",
       "      <td>3</td>\n",
       "      <td>1</td>\n",
       "      <td>Q1</td>\n",
       "      <td>fixed</td>\n",
       "      <td>POLYGON ((-113.29102 53.29806, -113.28552 53.2...</td>\n",
       "    </tr>\n",
       "  </tbody>\n",
       "</table>\n",
       "</div>"
      ],
      "text/plain": [
       "            quadkey  avg_d_kbps  avg_u_kbps  avg_lat_ms  tests  devices  \\\n",
       "0  0212113033010133         807         273          84      1        1   \n",
       "1  0212113123020220       82062       11294          19     34        4   \n",
       "2  0212131212333013        9741        1382          24      7        2   \n",
       "3  0213002023012223       81989       39432          13     56        7   \n",
       "4  0212113301112020        4405        2300          37      3        1   \n",
       "\n",
       "  quarter conn_type                                           geometry  \n",
       "0      Q1     fixed  POLYGON ((-114.13147 53.53051, -114.12598 53.5...  \n",
       "1      Q1     fixed  POLYGON ((-113.55469 53.46843, -113.54919 53.4...  \n",
       "2      Q1     fixed  POLYGON ((-114.28528 51.20344, -114.27979 51.2...  \n",
       "3      Q1     fixed  POLYGON ((-112.05505 53.49131, -112.04956 53.4...  \n",
       "4      Q1     fixed  POLYGON ((-113.29102 53.29806, -113.28552 53.2...  "
      ]
     },
     "execution_count": 9,
     "metadata": {},
     "output_type": "execute_result"
    }
   ],
   "source": [
    "ookla_gdf.head()"
   ]
  },
  {
   "cell_type": "markdown",
   "id": "d6d5e56b",
   "metadata": {},
   "source": [
    "#### Get the Centroid of Ookla polygons\n",
    "- apparently i need to project to a crs where the centroid will be in accurate? Centroid calculation seems to rely on distance, so a projection that preserves distance **(Azimuthal Equidistant projection)?**\n",
    "1. Change project?\n",
    "2. Do calculation?"
   ]
  },
  {
   "cell_type": "code",
   "execution_count": 11,
   "id": "345e3f1c",
   "metadata": {},
   "outputs": [
    {
     "data": {
      "text/html": [
       "<div>\n",
       "<style scoped>\n",
       "    .dataframe tbody tr th:only-of-type {\n",
       "        vertical-align: middle;\n",
       "    }\n",
       "\n",
       "    .dataframe tbody tr th {\n",
       "        vertical-align: top;\n",
       "    }\n",
       "\n",
       "    .dataframe thead th {\n",
       "        text-align: right;\n",
       "    }\n",
       "</style>\n",
       "<table border=\"1\" class=\"dataframe\">\n",
       "  <thead>\n",
       "    <tr style=\"text-align: right;\">\n",
       "      <th></th>\n",
       "      <th>quadkey</th>\n",
       "      <th>avg_d_kbps</th>\n",
       "      <th>avg_u_kbps</th>\n",
       "      <th>avg_lat_ms</th>\n",
       "      <th>tests</th>\n",
       "      <th>devices</th>\n",
       "      <th>quarter</th>\n",
       "      <th>conn_type</th>\n",
       "      <th>geometry</th>\n",
       "    </tr>\n",
       "  </thead>\n",
       "  <tbody>\n",
       "    <tr>\n",
       "      <th>0</th>\n",
       "      <td>0212113033010133</td>\n",
       "      <td>807</td>\n",
       "      <td>273</td>\n",
       "      <td>84</td>\n",
       "      <td>1</td>\n",
       "      <td>1</td>\n",
       "      <td>Q1</td>\n",
       "      <td>fixed</td>\n",
       "      <td>POLYGON ((-114.13147 53.53051, -114.12598 53.5...</td>\n",
       "    </tr>\n",
       "    <tr>\n",
       "      <th>1</th>\n",
       "      <td>0212113123020220</td>\n",
       "      <td>82062</td>\n",
       "      <td>11294</td>\n",
       "      <td>19</td>\n",
       "      <td>34</td>\n",
       "      <td>4</td>\n",
       "      <td>Q1</td>\n",
       "      <td>fixed</td>\n",
       "      <td>POLYGON ((-113.55469 53.46843, -113.54919 53.4...</td>\n",
       "    </tr>\n",
       "    <tr>\n",
       "      <th>2</th>\n",
       "      <td>0212131212333013</td>\n",
       "      <td>9741</td>\n",
       "      <td>1382</td>\n",
       "      <td>24</td>\n",
       "      <td>7</td>\n",
       "      <td>2</td>\n",
       "      <td>Q1</td>\n",
       "      <td>fixed</td>\n",
       "      <td>POLYGON ((-114.28528 51.20344, -114.27979 51.2...</td>\n",
       "    </tr>\n",
       "    <tr>\n",
       "      <th>3</th>\n",
       "      <td>0213002023012223</td>\n",
       "      <td>81989</td>\n",
       "      <td>39432</td>\n",
       "      <td>13</td>\n",
       "      <td>56</td>\n",
       "      <td>7</td>\n",
       "      <td>Q1</td>\n",
       "      <td>fixed</td>\n",
       "      <td>POLYGON ((-112.05505 53.49131, -112.04956 53.4...</td>\n",
       "    </tr>\n",
       "    <tr>\n",
       "      <th>4</th>\n",
       "      <td>0212113301112020</td>\n",
       "      <td>4405</td>\n",
       "      <td>2300</td>\n",
       "      <td>37</td>\n",
       "      <td>3</td>\n",
       "      <td>1</td>\n",
       "      <td>Q1</td>\n",
       "      <td>fixed</td>\n",
       "      <td>POLYGON ((-113.29102 53.29806, -113.28552 53.2...</td>\n",
       "    </tr>\n",
       "  </tbody>\n",
       "</table>\n",
       "</div>"
      ],
      "text/plain": [
       "            quadkey  avg_d_kbps  avg_u_kbps  avg_lat_ms  tests  devices  \\\n",
       "0  0212113033010133         807         273          84      1        1   \n",
       "1  0212113123020220       82062       11294          19     34        4   \n",
       "2  0212131212333013        9741        1382          24      7        2   \n",
       "3  0213002023012223       81989       39432          13     56        7   \n",
       "4  0212113301112020        4405        2300          37      3        1   \n",
       "\n",
       "  quarter conn_type                                           geometry  \n",
       "0      Q1     fixed  POLYGON ((-114.13147 53.53051, -114.12598 53.5...  \n",
       "1      Q1     fixed  POLYGON ((-113.55469 53.46843, -113.54919 53.4...  \n",
       "2      Q1     fixed  POLYGON ((-114.28528 51.20344, -114.27979 51.2...  \n",
       "3      Q1     fixed  POLYGON ((-112.05505 53.49131, -112.04956 53.4...  \n",
       "4      Q1     fixed  POLYGON ((-113.29102 53.29806, -113.28552 53.2...  "
      ]
     },
     "execution_count": 11,
     "metadata": {},
     "output_type": "execute_result"
    }
   ],
   "source": [
    "ookla_gdf.head()"
   ]
  },
  {
   "cell_type": "code",
   "execution_count": 12,
   "id": "4cca7196",
   "metadata": {},
   "outputs": [
    {
     "name": "stdout",
     "output_type": "stream",
     "text": [
      "epsg:4326\n"
     ]
    }
   ],
   "source": [
    "print(ookla_gdf.crs)"
   ]
  },
  {
   "cell_type": "code",
   "execution_count": 14,
   "id": "7fd66a51",
   "metadata": {},
   "outputs": [
    {
     "data": {
      "text/plain": [
       "<Geographic 2D CRS: EPSG:4326>\n",
       "Name: WGS 84\n",
       "Axis Info [ellipsoidal]:\n",
       "- Lat[north]: Geodetic latitude (degree)\n",
       "- Lon[east]: Geodetic longitude (degree)\n",
       "Area of Use:\n",
       "- name: World\n",
       "- bounds: (-180.0, -90.0, 180.0, 90.0)\n",
       "Datum: World Geodetic System 1984\n",
       "- Ellipsoid: WGS 84\n",
       "- Prime Meridian: Greenwich"
      ]
     },
     "execution_count": 14,
     "metadata": {},
     "output_type": "execute_result"
    }
   ],
   "source": [
    "ookla_gdf.geometry.crs"
   ]
  },
  {
   "cell_type": "code",
   "execution_count": 15,
   "id": "9b87b1ca",
   "metadata": {},
   "outputs": [],
   "source": [
    "ookla_gdf[\"long\"] = ookla_gdf.geometry.apply(lambda x:x.centroid.x)"
   ]
  },
  {
   "cell_type": "code",
   "execution_count": 16,
   "id": "d7aa3d69",
   "metadata": {},
   "outputs": [],
   "source": [
    "ookla_gdf[\"lat\"] = ookla_gdf.geometry.apply(lambda x:x.centroid.y)"
   ]
  },
  {
   "cell_type": "code",
   "execution_count": 17,
   "id": "dbd5ed95",
   "metadata": {},
   "outputs": [
    {
     "data": {
      "text/html": [
       "<div>\n",
       "<style scoped>\n",
       "    .dataframe tbody tr th:only-of-type {\n",
       "        vertical-align: middle;\n",
       "    }\n",
       "\n",
       "    .dataframe tbody tr th {\n",
       "        vertical-align: top;\n",
       "    }\n",
       "\n",
       "    .dataframe thead th {\n",
       "        text-align: right;\n",
       "    }\n",
       "</style>\n",
       "<table border=\"1\" class=\"dataframe\">\n",
       "  <thead>\n",
       "    <tr style=\"text-align: right;\">\n",
       "      <th></th>\n",
       "      <th>quadkey</th>\n",
       "      <th>avg_d_kbps</th>\n",
       "      <th>avg_u_kbps</th>\n",
       "      <th>avg_lat_ms</th>\n",
       "      <th>tests</th>\n",
       "      <th>devices</th>\n",
       "      <th>quarter</th>\n",
       "      <th>conn_type</th>\n",
       "      <th>geometry</th>\n",
       "      <th>long</th>\n",
       "      <th>lat</th>\n",
       "    </tr>\n",
       "  </thead>\n",
       "  <tbody>\n",
       "    <tr>\n",
       "      <th>0</th>\n",
       "      <td>0212113033010133</td>\n",
       "      <td>807</td>\n",
       "      <td>273</td>\n",
       "      <td>84</td>\n",
       "      <td>1</td>\n",
       "      <td>1</td>\n",
       "      <td>Q1</td>\n",
       "      <td>fixed</td>\n",
       "      <td>POLYGON ((-114.13147 53.53051, -114.12598 53.5...</td>\n",
       "      <td>-114.128723</td>\n",
       "      <td>53.528881</td>\n",
       "    </tr>\n",
       "    <tr>\n",
       "      <th>1</th>\n",
       "      <td>0212113123020220</td>\n",
       "      <td>82062</td>\n",
       "      <td>11294</td>\n",
       "      <td>19</td>\n",
       "      <td>34</td>\n",
       "      <td>4</td>\n",
       "      <td>Q1</td>\n",
       "      <td>fixed</td>\n",
       "      <td>POLYGON ((-113.55469 53.46843, -113.54919 53.4...</td>\n",
       "      <td>-113.551941</td>\n",
       "      <td>53.466796</td>\n",
       "    </tr>\n",
       "    <tr>\n",
       "      <th>2</th>\n",
       "      <td>0212131212333013</td>\n",
       "      <td>9741</td>\n",
       "      <td>1382</td>\n",
       "      <td>24</td>\n",
       "      <td>7</td>\n",
       "      <td>2</td>\n",
       "      <td>Q1</td>\n",
       "      <td>fixed</td>\n",
       "      <td>POLYGON ((-114.28528 51.20344, -114.27979 51.2...</td>\n",
       "      <td>-114.282532</td>\n",
       "      <td>51.201721</td>\n",
       "    </tr>\n",
       "  </tbody>\n",
       "</table>\n",
       "</div>"
      ],
      "text/plain": [
       "            quadkey  avg_d_kbps  avg_u_kbps  avg_lat_ms  tests  devices  \\\n",
       "0  0212113033010133         807         273          84      1        1   \n",
       "1  0212113123020220       82062       11294          19     34        4   \n",
       "2  0212131212333013        9741        1382          24      7        2   \n",
       "\n",
       "  quarter conn_type                                           geometry  \\\n",
       "0      Q1     fixed  POLYGON ((-114.13147 53.53051, -114.12598 53.5...   \n",
       "1      Q1     fixed  POLYGON ((-113.55469 53.46843, -113.54919 53.4...   \n",
       "2      Q1     fixed  POLYGON ((-114.28528 51.20344, -114.27979 51.2...   \n",
       "\n",
       "         long        lat  \n",
       "0 -114.128723  53.528881  \n",
       "1 -113.551941  53.466796  \n",
       "2 -114.282532  51.201721  "
      ]
     },
     "execution_count": 17,
     "metadata": {},
     "output_type": "execute_result"
    }
   ],
   "source": [
    "ookla_gdf.head(3)"
   ]
  },
  {
   "cell_type": "code",
   "execution_count": null,
   "id": "f820277b",
   "metadata": {},
   "outputs": [],
   "source": [
    "main_bound_df = pd.concat([rural_df, city_df])"
   ]
  },
  {
   "cell_type": "code",
   "execution_count": null,
   "id": "ef8752fc",
   "metadata": {},
   "outputs": [],
   "source": [
    "main_bound_df.head()"
   ]
  },
  {
   "cell_type": "code",
   "execution_count": null,
   "id": "d8c540d8",
   "metadata": {},
   "outputs": [],
   "source": [
    "city_df.head()"
   ]
  },
  {
   "cell_type": "code",
   "execution_count": null,
   "id": "a7b0ce8d",
   "metadata": {},
   "outputs": [],
   "source": [
    "rural_df.head()"
   ]
  },
  {
   "cell_type": "markdown",
   "id": "955a7649",
   "metadata": {},
   "source": [
    "### Intersections"
   ]
  },
  {
   "cell_type": "code",
   "execution_count": null,
   "id": "7261f85e",
   "metadata": {},
   "outputs": [],
   "source": [
    "size=(24, 30)\n",
    "lwidth=0.5"
   ]
  },
  {
   "cell_type": "code",
   "execution_count": null,
   "id": "cbdad88a",
   "metadata": {},
   "outputs": [],
   "source": [
    "# sliced out rural alberta\n",
    "\n",
    "ax = rural_df.plot(figsize=size, linewidth=lwidth, color=\"lightblue\", edgecolor=\"black\")\n",
    "#city_df.plot(figsize=size, linewidth=lwidth, color=\"blue\", edgecolor=\"black\", ax=ax)"
   ]
  },
  {
   "cell_type": "markdown",
   "id": "1a7a6775",
   "metadata": {},
   "source": [
    "### Counting Tests\n",
    "- How to count up the markers that fall within a certain polygon\n",
    "- Just try counting up the markers for rural_df first"
   ]
  },
  {
   "cell_type": "code",
   "execution_count": null,
   "id": "e08f568a",
   "metadata": {},
   "outputs": [],
   "source": []
  }
 ],
 "metadata": {
  "kernelspec": {
   "display_name": "basic-data-env",
   "language": "python",
   "name": "basic-data-env"
  },
  "language_info": {
   "codemirror_mode": {
    "name": "ipython",
    "version": 3
   },
   "file_extension": ".py",
   "mimetype": "text/x-python",
   "name": "python",
   "nbconvert_exporter": "python",
   "pygments_lexer": "ipython3",
   "version": "3.8.2"
  }
 },
 "nbformat": 4,
 "nbformat_minor": 5
}
