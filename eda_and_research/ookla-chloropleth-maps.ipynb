{
 "cells": [
  {
   "cell_type": "markdown",
   "id": "f8668d1a",
   "metadata": {},
   "source": [
    "### Chloropleth maps\n",
    "\n",
    "#### TODO:\n",
    "- area intersections, how to handle?"
   ]
  },
  {
   "cell_type": "code",
   "execution_count": 3,
   "id": "1554eab2",
   "metadata": {},
   "outputs": [],
   "source": [
    "import geopandas as gpd\n",
    "import pandas as pd\n",
    "from pathlib import Path"
   ]
  },
  {
   "cell_type": "code",
   "execution_count": 4,
   "id": "69934b20",
   "metadata": {},
   "outputs": [],
   "source": [
    "file_path = Path(\"../data/Municipal_Boundaries_SHP_Geographic/\")"
   ]
  },
  {
   "cell_type": "code",
   "execution_count": 5,
   "id": "9b59fda0",
   "metadata": {},
   "outputs": [],
   "source": [
    "city_df = gpd.read_file(file_path/\"CITY.shp\")\n",
    "hamlet_df = gpd.read_file(file_path/\"HAMLETPT.shp\")\n",
    "indian_df = gpd.read_file(file_path/\"INDIAN.shp\")\n",
    "octext_df = gpd.read_file(file_path/\"OCTEXT.shp\")\n",
    "\n",
    "rural_df = gpd.read_file(file_path/\"RURAL.shp\")\n",
    "svillage_df = gpd.read_file(file_path/\"SVILLAGE.shp\")\n",
    "town_df = gpd.read_file(file_path/\"TOWN.shp\")\n",
    "urbserv_df = gpd.read_file(file_path/\"urbserv.shp\")\n",
    "village_df = gpd.read_file(file_path/\"VILLAGE.shp\")"
   ]
  },
  {
   "cell_type": "code",
   "execution_count": 6,
   "id": "39b9a2c7",
   "metadata": {},
   "outputs": [],
   "source": [
    "ookla_df = gpd.read_file(\"../data/ookla/AB_ookla_data_2020.shp\")"
   ]
  },
  {
   "cell_type": "code",
   "execution_count": null,
   "id": "2ea0aedd",
   "metadata": {},
   "outputs": [],
   "source": []
  }
 ],
 "metadata": {
  "kernelspec": {
   "display_name": "basic-data-env",
   "language": "python",
   "name": "basic-data-env"
  },
  "language_info": {
   "codemirror_mode": {
    "name": "ipython",
    "version": 3
   },
   "file_extension": ".py",
   "mimetype": "text/x-python",
   "name": "python",
   "nbconvert_exporter": "python",
   "pygments_lexer": "ipython3",
   "version": "3.8.2"
  }
 },
 "nbformat": 4,
 "nbformat_minor": 5
}
