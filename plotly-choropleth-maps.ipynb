{
 "cells": [
  {
   "cell_type": "markdown",
   "id": "13150512",
   "metadata": {},
   "source": [
    "### Interactive Choropleth Maps"
   ]
  },
  {
   "cell_type": "code",
   "execution_count": 1,
   "id": "eadfd0bd",
   "metadata": {},
   "outputs": [],
   "source": [
    "from pathlib import Path\n",
    "\n",
    "import geopandas as gpd\n",
    "import pandas as pd\n",
    "\n",
    "import shapely\n",
    "import plotly.express as px\n",
    "\n",
    "from helper_functions import show_overlaps, boundary_cut, plot_bounds"
   ]
  },
  {
   "cell_type": "code",
   "execution_count": 2,
   "id": "bee52349",
   "metadata": {},
   "outputs": [],
   "source": [
    "file_path = Path(\"data/Municipal_Boundaries_SHP_Geographic/\")"
   ]
  },
  {
   "cell_type": "code",
   "execution_count": 3,
   "id": "589c67b7",
   "metadata": {},
   "outputs": [],
   "source": [
    "rural_gdf = gpd.read_file(file_path/\"RURAL.shp\") #1 \n",
    "reserve_gdf = gpd.read_file(file_path/\"INDIAN.shp\") # 2\n",
    "city_gdf = gpd.read_file(file_path/\"CITY.shp\") # 3\n",
    "town_gdf = gpd.read_file(file_path/\"TOWN.shp\") # 4 \n",
    "urbserv_gdf = gpd.read_file(file_path/\"urbserv.shp\") # 5\n",
    "# hamlet_df = gpd.read_file(file_path/\"HAMLETPT.shp\") # points, no boundaries\n",
    "village_gdf = gpd.read_file(file_path/\"VILLAGE.shp\") # 6\n",
    "svillage_gdf = gpd.read_file(file_path/\"SVILLAGE.shp\") # 7 "
   ]
  },
  {
   "cell_type": "code",
   "execution_count": 4,
   "id": "7b842491",
   "metadata": {},
   "outputs": [],
   "source": [
    "ookla_gdf = gpd.read_file(\"data/ookla/AB_ookla_data_2020.shp\")"
   ]
  },
  {
   "cell_type": "code",
   "execution_count": 5,
   "id": "a57864fe",
   "metadata": {},
   "outputs": [],
   "source": [
    "ookla_gdf[\"long\"] = ookla_gdf.geometry.apply(lambda x:x.centroid.x)\n",
    "ookla_gdf[\"lat\"] = ookla_gdf.geometry.apply(lambda x:x.centroid.y)"
   ]
  },
  {
   "cell_type": "code",
   "execution_count": 6,
   "id": "2e1f277a",
   "metadata": {},
   "outputs": [],
   "source": [
    "ookla_temp = pd.DataFrame(ookla_gdf.drop(\"geometry\", axis=1))\n",
    "ookla_gdf = gpd.GeoDataFrame(ookla_temp, geometry=gpd.points_from_xy(\n",
    "    ookla_temp.long, ookla_temp.lat))\n",
    "ookla_gdf = ookla_gdf.drop([\"long\", \"lat\"], axis=1)"
   ]
  },
  {
   "cell_type": "code",
   "execution_count": 7,
   "id": "fce2ca79",
   "metadata": {},
   "outputs": [
    {
     "name": "stderr",
     "output_type": "stream",
     "text": [
      "/home/peter/anaconda3/envs/basic-data/lib/python3.8/site-packages/pyproj/crs/crs.py:53: FutureWarning: '+init=<authority>:<code>' syntax is deprecated. '<authority>:<code>' is the preferred initialization method. When making the change, be mindful of axis order changes: https://pyproj4.github.io/pyproj/stable/gotchas.html#axis-order-changes-in-proj-6\n",
      "  return _prepare_from_string(\" \".join(pjargs))\n"
     ]
    }
   ],
   "source": [
    "ookla_gdf.crs = {\"init\":\"EPSG:4326\"}"
   ]
  },
  {
   "cell_type": "code",
   "execution_count": 8,
   "id": "e094ab93",
   "metadata": {},
   "outputs": [],
   "source": [
    "rural_cuts = [reserve_gdf, city_gdf, town_gdf, urbserv_gdf, village_gdf, svillage_gdf] "
   ]
  },
  {
   "cell_type": "code",
   "execution_count": 9,
   "id": "963376ec",
   "metadata": {},
   "outputs": [],
   "source": [
    "rural_gdf = boundary_cut(rural_cuts, rural_gdf)"
   ]
  },
  {
   "cell_type": "code",
   "execution_count": 10,
   "id": "b9935d0e",
   "metadata": {},
   "outputs": [],
   "source": [
    "reserve_cuts = rural_cuts.copy()\n",
    "reserve_cuts.remove(reserve_gdf)"
   ]
  },
  {
   "cell_type": "code",
   "execution_count": 11,
   "id": "d83136c3",
   "metadata": {},
   "outputs": [],
   "source": [
    "reserve_gdf = boundary_cut(reserve_cuts, reserve_gdf)"
   ]
  },
  {
   "cell_type": "code",
   "execution_count": 12,
   "id": "e8538d8d",
   "metadata": {},
   "outputs": [
    {
     "name": "stderr",
     "output_type": "stream",
     "text": [
      "/home/peter/anaconda3/envs/basic-data/lib/python3.8/site-packages/pyproj/crs/crs.py:280: FutureWarning: '+init=<authority>:<code>' syntax is deprecated. '<authority>:<code>' is the preferred initialization method. When making the change, be mindful of axis order changes: https://pyproj4.github.io/pyproj/stable/gotchas.html#axis-order-changes-in-proj-6\n",
      "  projstring = _prepare_from_string(projparams)\n"
     ]
    }
   ],
   "source": [
    "rural_data = gpd.sjoin(ookla_gdf, rural_gdf.to_crs(\"+init=epsg:4326 +type=crs\"))"
   ]
  },
  {
   "cell_type": "code",
   "execution_count": 13,
   "id": "1246d5a5",
   "metadata": {},
   "outputs": [
    {
     "name": "stderr",
     "output_type": "stream",
     "text": [
      "/home/peter/anaconda3/envs/basic-data/lib/python3.8/site-packages/pyproj/crs/crs.py:280: FutureWarning: '+init=<authority>:<code>' syntax is deprecated. '<authority>:<code>' is the preferred initialization method. When making the change, be mindful of axis order changes: https://pyproj4.github.io/pyproj/stable/gotchas.html#axis-order-changes-in-proj-6\n",
      "  projstring = _prepare_from_string(projparams)\n"
     ]
    }
   ],
   "source": [
    "reserve_data = gpd.sjoin(ookla_gdf, reserve_gdf.to_crs(\"+init=epsg:4326 +type=crs\"))"
   ]
  },
  {
   "cell_type": "code",
   "execution_count": 14,
   "id": "115783b2",
   "metadata": {},
   "outputs": [],
   "source": [
    "rural_dict = rural_data.groupby(\"GEONAME\")[\"avg_d_kbps\"].mean().reset_index()\n",
    "reserve_dict = reserve_data.groupby(\"GEONAME\")[\"avg_d_kbps\"].mean()"
   ]
  },
  {
   "cell_type": "code",
   "execution_count": 15,
   "id": "09e54f07",
   "metadata": {},
   "outputs": [],
   "source": [
    "rural_final = rural_gdf[[\"GEONAME\", \"geometry\"]].set_index(\"GEONAME\")\n",
    "reserve_final1 = reserve_gdf[[\"GEONAME\", \"geometry\"]].set_index(\"GEONAME\")"
   ]
  },
  {
   "cell_type": "code",
   "execution_count": 16,
   "id": "028eecfc",
   "metadata": {},
   "outputs": [
    {
     "data": {
      "text/html": [
       "<div>\n",
       "<style scoped>\n",
       "    .dataframe tbody tr th:only-of-type {\n",
       "        vertical-align: middle;\n",
       "    }\n",
       "\n",
       "    .dataframe tbody tr th {\n",
       "        vertical-align: top;\n",
       "    }\n",
       "\n",
       "    .dataframe thead th {\n",
       "        text-align: right;\n",
       "    }\n",
       "</style>\n",
       "<table border=\"1\" class=\"dataframe\">\n",
       "  <thead>\n",
       "    <tr style=\"text-align: right;\">\n",
       "      <th></th>\n",
       "      <th>RURAL_ID</th>\n",
       "      <th>PID</th>\n",
       "      <th>GEONAME</th>\n",
       "      <th>GEOCODE</th>\n",
       "      <th>geometry</th>\n",
       "    </tr>\n",
       "  </thead>\n",
       "  <tbody>\n",
       "    <tr>\n",
       "      <th>0</th>\n",
       "      <td>1</td>\n",
       "      <td>29860</td>\n",
       "      <td>MUNICIPAL DISTRICT OF ACADIA NO. 34</td>\n",
       "      <td>0001</td>\n",
       "      <td>POLYGON ((-110.05165 51.27041, -110.05136 51.2...</td>\n",
       "    </tr>\n",
       "    <tr>\n",
       "      <th>1</th>\n",
       "      <td>2</td>\n",
       "      <td>29863</td>\n",
       "      <td>ATHABASCA COUNTY</td>\n",
       "      <td>0012</td>\n",
       "      <td>POLYGON ((-113.68568 54.53633, -113.68569 54.5...</td>\n",
       "    </tr>\n",
       "    <tr>\n",
       "      <th>2</th>\n",
       "      <td>3</td>\n",
       "      <td>29864</td>\n",
       "      <td>COUNTY OF BARRHEAD NO. 11</td>\n",
       "      <td>0015</td>\n",
       "      <td>POLYGON ((-114.05164 53.92673, -114.05164 53.9...</td>\n",
       "    </tr>\n",
       "  </tbody>\n",
       "</table>\n",
       "</div>"
      ],
      "text/plain": [
       "   RURAL_ID    PID                              GEONAME GEOCODE  \\\n",
       "0         1  29860  MUNICIPAL DISTRICT OF ACADIA NO. 34    0001   \n",
       "1         2  29863                     ATHABASCA COUNTY    0012   \n",
       "2         3  29864            COUNTY OF BARRHEAD NO. 11    0015   \n",
       "\n",
       "                                            geometry  \n",
       "0  POLYGON ((-110.05165 51.27041, -110.05136 51.2...  \n",
       "1  POLYGON ((-113.68568 54.53633, -113.68569 54.5...  \n",
       "2  POLYGON ((-114.05164 53.92673, -114.05164 53.9...  "
      ]
     },
     "execution_count": 16,
     "metadata": {},
     "output_type": "execute_result"
    }
   ],
   "source": [
    "rural_gdf.head(3)"
   ]
  },
  {
   "cell_type": "code",
   "execution_count": 17,
   "id": "be912ce2",
   "metadata": {},
   "outputs": [],
   "source": [
    "rural_final = rural_gdf.merge(rural_dict, how=\"inner\").set_index(\"GEONAME\")"
   ]
  },
  {
   "cell_type": "code",
   "execution_count": 18,
   "id": "0fdadff8",
   "metadata": {},
   "outputs": [],
   "source": [
    "# df = px.data.election()\n",
    "# geo_df = gpd.GeoDataFrame.from_features(\n",
    "#     px.data.election_geojson()[\"features\"]\n",
    "# ).merge(df, on=\"district\").set_index(\"district\")"
   ]
  },
  {
   "cell_type": "code",
   "execution_count": 20,
   "id": "4e31b9e4",
   "metadata": {},
   "outputs": [
    {
     "data": {
      "text/html": [
       "<div>\n",
       "<style scoped>\n",
       "    .dataframe tbody tr th:only-of-type {\n",
       "        vertical-align: middle;\n",
       "    }\n",
       "\n",
       "    .dataframe tbody tr th {\n",
       "        vertical-align: top;\n",
       "    }\n",
       "\n",
       "    .dataframe thead th {\n",
       "        text-align: right;\n",
       "    }\n",
       "</style>\n",
       "<table border=\"1\" class=\"dataframe\">\n",
       "  <thead>\n",
       "    <tr style=\"text-align: right;\">\n",
       "      <th></th>\n",
       "      <th>RURAL_ID</th>\n",
       "      <th>PID</th>\n",
       "      <th>GEOCODE</th>\n",
       "      <th>geometry</th>\n",
       "      <th>avg_d_kbps</th>\n",
       "    </tr>\n",
       "    <tr>\n",
       "      <th>GEONAME</th>\n",
       "      <th></th>\n",
       "      <th></th>\n",
       "      <th></th>\n",
       "      <th></th>\n",
       "      <th></th>\n",
       "    </tr>\n",
       "  </thead>\n",
       "  <tbody>\n",
       "    <tr>\n",
       "      <th>MUNICIPAL DISTRICT OF ACADIA NO. 34</th>\n",
       "      <td>1</td>\n",
       "      <td>29860</td>\n",
       "      <td>0001</td>\n",
       "      <td>POLYGON ((-110.05165 51.27041, -110.05136 51.2...</td>\n",
       "      <td>14158.789474</td>\n",
       "    </tr>\n",
       "    <tr>\n",
       "      <th>ATHABASCA COUNTY</th>\n",
       "      <td>2</td>\n",
       "      <td>29863</td>\n",
       "      <td>0012</td>\n",
       "      <td>POLYGON ((-113.68568 54.53633, -113.68569 54.5...</td>\n",
       "      <td>20790.161443</td>\n",
       "    </tr>\n",
       "    <tr>\n",
       "      <th>COUNTY OF BARRHEAD NO. 11</th>\n",
       "      <td>3</td>\n",
       "      <td>29864</td>\n",
       "      <td>0015</td>\n",
       "      <td>POLYGON ((-114.05164 53.92673, -114.05164 53.9...</td>\n",
       "      <td>40068.579741</td>\n",
       "    </tr>\n",
       "  </tbody>\n",
       "</table>\n",
       "</div>"
      ],
      "text/plain": [
       "                                     RURAL_ID    PID GEOCODE  \\\n",
       "GEONAME                                                        \n",
       "MUNICIPAL DISTRICT OF ACADIA NO. 34         1  29860    0001   \n",
       "ATHABASCA COUNTY                            2  29863    0012   \n",
       "COUNTY OF BARRHEAD NO. 11                   3  29864    0015   \n",
       "\n",
       "                                                                              geometry  \\\n",
       "GEONAME                                                                                  \n",
       "MUNICIPAL DISTRICT OF ACADIA NO. 34  POLYGON ((-110.05165 51.27041, -110.05136 51.2...   \n",
       "ATHABASCA COUNTY                     POLYGON ((-113.68568 54.53633, -113.68569 54.5...   \n",
       "COUNTY OF BARRHEAD NO. 11            POLYGON ((-114.05164 53.92673, -114.05164 53.9...   \n",
       "\n",
       "                                       avg_d_kbps  \n",
       "GEONAME                                            \n",
       "MUNICIPAL DISTRICT OF ACADIA NO. 34  14158.789474  \n",
       "ATHABASCA COUNTY                     20790.161443  \n",
       "COUNTY OF BARRHEAD NO. 11            40068.579741  "
      ]
     },
     "execution_count": 20,
     "metadata": {},
     "output_type": "execute_result"
    }
   ],
   "source": [
    "rural_final.head(3)"
   ]
  },
  {
   "cell_type": "code",
   "execution_count": 21,
   "id": "e7aff0b7",
   "metadata": {},
   "outputs": [
    {
     "data": {
      "text/html": [
       "<div>\n",
       "<style scoped>\n",
       "    .dataframe tbody tr th:only-of-type {\n",
       "        vertical-align: middle;\n",
       "    }\n",
       "\n",
       "    .dataframe tbody tr th {\n",
       "        vertical-align: top;\n",
       "    }\n",
       "\n",
       "    .dataframe thead th {\n",
       "        text-align: right;\n",
       "    }\n",
       "</style>\n",
       "<table border=\"1\" class=\"dataframe\">\n",
       "  <thead>\n",
       "    <tr style=\"text-align: right;\">\n",
       "      <th></th>\n",
       "      <th>geometry</th>\n",
       "      <th>Coderre</th>\n",
       "      <th>Bergeron</th>\n",
       "      <th>Joly</th>\n",
       "      <th>total</th>\n",
       "      <th>winner</th>\n",
       "      <th>result</th>\n",
       "      <th>district_id</th>\n",
       "    </tr>\n",
       "    <tr>\n",
       "      <th>district</th>\n",
       "      <th></th>\n",
       "      <th></th>\n",
       "      <th></th>\n",
       "      <th></th>\n",
       "      <th></th>\n",
       "      <th></th>\n",
       "      <th></th>\n",
       "      <th></th>\n",
       "    </tr>\n",
       "  </thead>\n",
       "  <tbody>\n",
       "    <tr>\n",
       "      <th>11-Sault-au-Récollet</th>\n",
       "      <td>MULTIPOLYGON (((-73.63632 45.57592, -73.63628 ...</td>\n",
       "      <td>3348</td>\n",
       "      <td>2770</td>\n",
       "      <td>2532</td>\n",
       "      <td>8650</td>\n",
       "      <td>Coderre</td>\n",
       "      <td>plurality</td>\n",
       "      <td>11</td>\n",
       "    </tr>\n",
       "    <tr>\n",
       "      <th>12-Saint-Sulpice</th>\n",
       "      <td>POLYGON ((-73.62175 45.55448, -73.62350 45.553...</td>\n",
       "      <td>3252</td>\n",
       "      <td>2521</td>\n",
       "      <td>2543</td>\n",
       "      <td>8316</td>\n",
       "      <td>Coderre</td>\n",
       "      <td>plurality</td>\n",
       "      <td>12</td>\n",
       "    </tr>\n",
       "    <tr>\n",
       "      <th>13-Ahuntsic</th>\n",
       "      <td>POLYGON ((-73.65132 45.55457, -73.65687 45.545...</td>\n",
       "      <td>2979</td>\n",
       "      <td>3430</td>\n",
       "      <td>2873</td>\n",
       "      <td>9282</td>\n",
       "      <td>Bergeron</td>\n",
       "      <td>plurality</td>\n",
       "      <td>13</td>\n",
       "    </tr>\n",
       "  </tbody>\n",
       "</table>\n",
       "</div>"
      ],
      "text/plain": [
       "                                                               geometry  \\\n",
       "district                                                                  \n",
       "11-Sault-au-Récollet  MULTIPOLYGON (((-73.63632 45.57592, -73.63628 ...   \n",
       "12-Saint-Sulpice      POLYGON ((-73.62175 45.55448, -73.62350 45.553...   \n",
       "13-Ahuntsic           POLYGON ((-73.65132 45.55457, -73.65687 45.545...   \n",
       "\n",
       "                      Coderre  Bergeron  Joly  total    winner     result  \\\n",
       "district                                                                    \n",
       "11-Sault-au-Récollet     3348      2770  2532   8650   Coderre  plurality   \n",
       "12-Saint-Sulpice         3252      2521  2543   8316   Coderre  plurality   \n",
       "13-Ahuntsic              2979      3430  2873   9282  Bergeron  plurality   \n",
       "\n",
       "                      district_id  \n",
       "district                           \n",
       "11-Sault-au-Récollet           11  \n",
       "12-Saint-Sulpice               12  \n",
       "13-Ahuntsic                    13  "
      ]
     },
     "execution_count": 21,
     "metadata": {},
     "output_type": "execute_result"
    }
   ],
   "source": [
    "geo_df.head(3)"
   ]
  },
  {
   "cell_type": "code",
   "execution_count": 62,
   "id": "8ecaa451",
   "metadata": {},
   "outputs": [
    {
     "data": {
      "text/plain": [
       "34"
      ]
     },
     "execution_count": 62,
     "metadata": {},
     "output_type": "execute_result"
    }
   ],
   "source": [
    "len(geo_df.loc[\"12-Saint-Sulpice\"].geometry.exterior.coords.xy[0])"
   ]
  },
  {
   "cell_type": "code",
   "execution_count": 30,
   "id": "1d82e85d",
   "metadata": {},
   "outputs": [],
   "source": [
    "# fig = px.choropleth(rural_final,\n",
    "#                    geojson=rural_final.geometry,\n",
    "#                    locations=rural_final.index,\n",
    "#                    color=\"avg_d_kbps\",\n",
    "#                    projection=\"mercator\")\n",
    "# fig.update_geos(fitbounds=\"locations\", visible=False)\n",
    "# fig.show()"
   ]
  },
  {
   "cell_type": "code",
   "execution_count": null,
   "id": "41796596",
   "metadata": {},
   "outputs": [],
   "source": []
  }
 ],
 "metadata": {
  "kernelspec": {
   "display_name": "basic-data-env",
   "language": "python",
   "name": "basic-data-env"
  },
  "language_info": {
   "codemirror_mode": {
    "name": "ipython",
    "version": 3
   },
   "file_extension": ".py",
   "mimetype": "text/x-python",
   "name": "python",
   "nbconvert_exporter": "python",
   "pygments_lexer": "ipython3",
   "version": "3.8.2"
  }
 },
 "nbformat": 4,
 "nbformat_minor": 5
}
