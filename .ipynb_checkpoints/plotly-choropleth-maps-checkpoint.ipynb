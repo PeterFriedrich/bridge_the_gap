{
 "cells": [
  {
   "cell_type": "markdown",
   "id": "35523163",
   "metadata": {},
   "source": [
    "### Interactive Choropleth Maps"
   ]
  },
  {
   "cell_type": "code",
   "execution_count": 5,
   "id": "f20da7f3",
   "metadata": {},
   "outputs": [],
   "source": [
    "from pathlib import Path\n",
    "\n",
    "import geopandas as gpd\n",
    "import pandas as pd\n",
    "\n",
    "import shapely\n",
    "import plotly.express as px\n",
    "\n",
    "from helper_functions import show_overlaps, boundary_cut, plot_bounds"
   ]
  },
  {
   "cell_type": "code",
   "execution_count": 6,
   "id": "3f18a1f5",
   "metadata": {},
   "outputs": [],
   "source": [
    "file_path = Path(\"data/Municipal_Boundaries_SHP_Geographic/\")"
   ]
  },
  {
   "cell_type": "code",
   "execution_count": 7,
   "id": "eeb4724b",
   "metadata": {},
   "outputs": [],
   "source": [
    "rural_gdf = gpd.read_file(file_path/\"RURAL.shp\") #1 \n",
    "reserve_gdf = gpd.read_file(file_path/\"INDIAN.shp\") # 2\n",
    "city_gdf = gpd.read_file(file_path/\"CITY.shp\") # 3\n",
    "town_gdf = gpd.read_file(file_path/\"TOWN.shp\") # 4 \n",
    "urbserv_gdf = gpd.read_file(file_path/\"urbserv.shp\") # 5\n",
    "# hamlet_df = gpd.read_file(file_path/\"HAMLETPT.shp\") # points, no boundaries\n",
    "village_gdf = gpd.read_file(file_path/\"VILLAGE.shp\") # 6\n",
    "svillage_gdf = gpd.read_file(file_path/\"SVILLAGE.shp\") # 7 "
   ]
  },
  {
   "cell_type": "code",
   "execution_count": 8,
   "id": "8d1c64bb",
   "metadata": {},
   "outputs": [],
   "source": [
    "ookla_gdf = gpd.read_file(\"data/ookla/AB_ookla_data_2020.shp\")"
   ]
  },
  {
   "cell_type": "code",
   "execution_count": 9,
   "id": "0d283684",
   "metadata": {},
   "outputs": [],
   "source": [
    "ookla_gdf[\"long\"] = ookla_gdf.geometry.apply(lambda x:x.centroid.x)\n",
    "ookla_gdf[\"lat\"] = ookla_gdf.geometry.apply(lambda x:x.centroid.y)"
   ]
  },
  {
   "cell_type": "code",
   "execution_count": 10,
   "id": "22b5c0da",
   "metadata": {},
   "outputs": [],
   "source": [
    "ookla_temp = pd.DataFrame(ookla_gdf.drop(\"geometry\", axis=1))\n",
    "ookla_gdf = gpd.GeoDataFrame(ookla_temp, geometry=gpd.points_from_xy(\n",
    "    ookla_temp.long, ookla_temp.lat))\n",
    "ookla_gdf = ookla_gdf.drop([\"long\", \"lat\"], axis=1)"
   ]
  },
  {
   "cell_type": "code",
   "execution_count": 11,
   "id": "0b299305",
   "metadata": {},
   "outputs": [
    {
     "name": "stderr",
     "output_type": "stream",
     "text": [
      "/home/peter/anaconda3/envs/basic-data/lib/python3.8/site-packages/pyproj/crs/crs.py:53: FutureWarning: '+init=<authority>:<code>' syntax is deprecated. '<authority>:<code>' is the preferred initialization method. When making the change, be mindful of axis order changes: https://pyproj4.github.io/pyproj/stable/gotchas.html#axis-order-changes-in-proj-6\n",
      "  return _prepare_from_string(\" \".join(pjargs))\n"
     ]
    }
   ],
   "source": [
    "ookla_gdf.crs = {\"init\":\"EPSG:4326\"}"
   ]
  },
  {
   "cell_type": "code",
   "execution_count": 12,
   "id": "2911501f",
   "metadata": {},
   "outputs": [],
   "source": [
    "rural_cuts = [reserve_gdf, city_gdf, town_gdf, urbserv_gdf, village_gdf, svillage_gdf] "
   ]
  },
  {
   "cell_type": "code",
   "execution_count": 13,
   "id": "38935aea",
   "metadata": {},
   "outputs": [],
   "source": [
    "rural_gdf = boundary_cut(rural_cuts, rural_gdf)"
   ]
  },
  {
   "cell_type": "code",
   "execution_count": 14,
   "id": "092ad371",
   "metadata": {},
   "outputs": [],
   "source": [
    "reserve_cuts = rural_cuts.copy()\n",
    "reserve_cuts.remove(reserve_gdf)"
   ]
  },
  {
   "cell_type": "code",
   "execution_count": 15,
   "id": "54c0c6ce",
   "metadata": {},
   "outputs": [],
   "source": [
    "reserve_gdf = boundary_cut(reserve_cuts, reserve_gdf)"
   ]
  },
  {
   "cell_type": "code",
   "execution_count": 16,
   "id": "5dbad9f6",
   "metadata": {},
   "outputs": [
    {
     "name": "stderr",
     "output_type": "stream",
     "text": [
      "/home/peter/anaconda3/envs/basic-data/lib/python3.8/site-packages/pyproj/crs/crs.py:280: FutureWarning: '+init=<authority>:<code>' syntax is deprecated. '<authority>:<code>' is the preferred initialization method. When making the change, be mindful of axis order changes: https://pyproj4.github.io/pyproj/stable/gotchas.html#axis-order-changes-in-proj-6\n",
      "  projstring = _prepare_from_string(projparams)\n"
     ]
    }
   ],
   "source": [
    "rural_data = gpd.sjoin(ookla_gdf, rural_gdf.to_crs(\"+init=epsg:4326 +type=crs\"))"
   ]
  },
  {
   "cell_type": "code",
   "execution_count": 17,
   "id": "4f3d9730",
   "metadata": {},
   "outputs": [
    {
     "name": "stderr",
     "output_type": "stream",
     "text": [
      "/home/peter/anaconda3/envs/basic-data/lib/python3.8/site-packages/pyproj/crs/crs.py:280: FutureWarning: '+init=<authority>:<code>' syntax is deprecated. '<authority>:<code>' is the preferred initialization method. When making the change, be mindful of axis order changes: https://pyproj4.github.io/pyproj/stable/gotchas.html#axis-order-changes-in-proj-6\n",
      "  projstring = _prepare_from_string(projparams)\n"
     ]
    }
   ],
   "source": [
    "reserve_data = gpd.sjoin(ookla_gdf, reserve_gdf.to_crs(\"+init=epsg:4326 +type=crs\"))"
   ]
  },
  {
   "cell_type": "code",
   "execution_count": 18,
   "id": "ac57c890",
   "metadata": {},
   "outputs": [],
   "source": [
    "rural_dict = rural_data.groupby(\"GEONAME\")[\"avg_d_kbps\"].mean()\n",
    "reserve_dict = reserve_data.groupby(\"GEONAME\")[\"avg_d_kbps\"].mean()"
   ]
  },
  {
   "cell_type": "code",
   "execution_count": 19,
   "id": "2b13ba8b",
   "metadata": {},
   "outputs": [],
   "source": [
    "rural_final = rural_gdf[[\"GEONAME\", \"geometry\"]].set_index(\"GEONAME\")\n",
    "reserve_final1 = reserve_gdf[[\"GEONAME\", \"geometry\"]].set_index(\"GEONAME\")"
   ]
  },
  {
   "cell_type": "code",
   "execution_count": null,
   "id": "e787e695",
   "metadata": {},
   "outputs": [],
   "source": [
    "df = px.data.election()\n",
    "geo_df = gpd.GeoDataFrame.from_features(\n",
    "    px.data.election_geojson()[\"features\"]\n",
    ").merge(df, on=\"district\").set_index(\"district\")\n",
    "\n",
    "\n",
    "fig = px.choropleth(geo_df,\n",
    "                   geojson=geo_df.geometry,\n",
    "                   locations=geo_df.index,\n",
    "                   color=\"Joly\",\n",
    "                   projection=\"mercator\")\n",
    "fig.update_geos(fitbounds=\"locations\", visible=False)\n",
    "fig.show()\n"
   ]
  }
 ],
 "metadata": {
  "kernelspec": {
   "display_name": "basic-data-env",
   "language": "python",
   "name": "basic-data-env"
  },
  "language_info": {
   "codemirror_mode": {
    "name": "ipython",
    "version": 3
   },
   "file_extension": ".py",
   "mimetype": "text/x-python",
   "name": "python",
   "nbconvert_exporter": "python",
   "pygments_lexer": "ipython3",
   "version": "3.8.2"
  }
 },
 "nbformat": 4,
 "nbformat_minor": 5
}
